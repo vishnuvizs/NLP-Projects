{
 "cells": [
  {
   "cell_type": "markdown",
   "id": "a8511849",
   "metadata": {},
   "source": [
    "### Sentiment Analysis"
   ]
  },
  {
   "cell_type": "markdown",
   "id": "5d3ef1f8",
   "metadata": {},
   "source": [
    "Here i am using unsupervised lexicon based approach based on Vader lexicon for sentiment analysis because the dataset doesn't consist of labels"
   ]
  },
  {
   "cell_type": "code",
   "execution_count": 24,
   "id": "c332d27d",
   "metadata": {},
   "outputs": [],
   "source": [
    "import pandas as pd\n",
    "from vaderSentiment.vaderSentiment import SentimentIntensityAnalyzer"
   ]
  },
  {
   "cell_type": "code",
   "execution_count": 25,
   "id": "3b6fe8d9",
   "metadata": {},
   "outputs": [],
   "source": [
    "df = pd.read_csv('Dataset.csv', encoding = 'ISO-8859-1')"
   ]
  },
  {
   "cell_type": "code",
   "execution_count": 26,
   "id": "06363745",
   "metadata": {},
   "outputs": [
    {
     "data": {
      "text/html": [
       "<div>\n",
       "<style scoped>\n",
       "    .dataframe tbody tr th:only-of-type {\n",
       "        vertical-align: middle;\n",
       "    }\n",
       "\n",
       "    .dataframe tbody tr th {\n",
       "        vertical-align: top;\n",
       "    }\n",
       "\n",
       "    .dataframe thead th {\n",
       "        text-align: right;\n",
       "    }\n",
       "</style>\n",
       "<table border=\"1\" class=\"dataframe\">\n",
       "  <thead>\n",
       "    <tr style=\"text-align: right;\">\n",
       "      <th></th>\n",
       "      <th>ID</th>\n",
       "      <th>MEMBER_ID</th>\n",
       "      <th>COMMENT</th>\n",
       "    </tr>\n",
       "  </thead>\n",
       "  <tbody>\n",
       "    <tr>\n",
       "      <th>0</th>\n",
       "      <td>a2p1U000000RowfQAC</td>\n",
       "      <td>0011U00000rjFKdQAM</td>\n",
       "      <td>I showed up for my appointment, but they had m...</td>\n",
       "    </tr>\n",
       "    <tr>\n",
       "      <th>1</th>\n",
       "      <td>a2p1U000000RqQqQAK</td>\n",
       "      <td>0011U00000riCSHQA2</td>\n",
       "      <td>Staff was polite, courteous, and on time</td>\n",
       "    </tr>\n",
       "    <tr>\n",
       "      <th>2</th>\n",
       "      <td>a2p1U000000RqXyQAK</td>\n",
       "      <td>0011U00000riTw7QAE</td>\n",
       "      <td>Overall care is great!  It's wonderful to be a...</td>\n",
       "    </tr>\n",
       "    <tr>\n",
       "      <th>3</th>\n",
       "      <td>a2p1U000000Rq1LQAS</td>\n",
       "      <td>0011U00000rhu8eQAA</td>\n",
       "      <td>Like the doctor and staff at this location. Ea...</td>\n",
       "    </tr>\n",
       "    <tr>\n",
       "      <th>4</th>\n",
       "      <td>a2p1U000000RpiuQAC</td>\n",
       "      <td>0011U00000rk4SHQAY</td>\n",
       "      <td>The convenience and the doctors</td>\n",
       "    </tr>\n",
       "  </tbody>\n",
       "</table>\n",
       "</div>"
      ],
      "text/plain": [
       "                   ID           MEMBER_ID  \\\n",
       "0  a2p1U000000RowfQAC  0011U00000rjFKdQAM   \n",
       "1  a2p1U000000RqQqQAK  0011U00000riCSHQA2   \n",
       "2  a2p1U000000RqXyQAK  0011U00000riTw7QAE   \n",
       "3  a2p1U000000Rq1LQAS  0011U00000rhu8eQAA   \n",
       "4  a2p1U000000RpiuQAC  0011U00000rk4SHQAY   \n",
       "\n",
       "                                             COMMENT  \n",
       "0  I showed up for my appointment, but they had m...  \n",
       "1           Staff was polite, courteous, and on time  \n",
       "2  Overall care is great!  It's wonderful to be a...  \n",
       "3  Like the doctor and staff at this location. Ea...  \n",
       "4                    The convenience and the doctors  "
      ]
     },
     "execution_count": 26,
     "metadata": {},
     "output_type": "execute_result"
    }
   ],
   "source": [
    "df.head()"
   ]
  },
  {
   "cell_type": "code",
   "execution_count": 27,
   "id": "f9ce82d9",
   "metadata": {},
   "outputs": [],
   "source": [
    "analyser = SentimentIntensityAnalyzer()"
   ]
  },
  {
   "cell_type": "code",
   "execution_count": 28,
   "id": "afd9c551",
   "metadata": {},
   "outputs": [],
   "source": [
    "def sentiment_analyzer_scores(sentence):\n",
    "    score = analyser.polarity_scores(sentence)\n",
    "    return score"
   ]
  },
  {
   "cell_type": "code",
   "execution_count": 29,
   "id": "6b8781f1",
   "metadata": {},
   "outputs": [],
   "source": [
    "scores = []\n",
    "for i in df['COMMENT']:\n",
    "    scores.append(list(sentiment_analyzer_scores(i).values()))"
   ]
  },
  {
   "cell_type": "code",
   "execution_count": 30,
   "id": "d1e470ca",
   "metadata": {},
   "outputs": [],
   "source": [
    "sentiments = pd.DataFrame(scores, columns = sentiment_analyzer_scores(i).keys())"
   ]
  },
  {
   "cell_type": "code",
   "execution_count": 31,
   "id": "a2dcf708",
   "metadata": {},
   "outputs": [],
   "source": [
    "newdf = pd.concat([df,sentiments], axis = 1)"
   ]
  },
  {
   "cell_type": "code",
   "execution_count": 32,
   "id": "18525740",
   "metadata": {},
   "outputs": [],
   "source": [
    "def add_label(num):\n",
    "    if num == -1:\n",
    "        return 'Extreme Negative'\n",
    "    elif num <= 0.05:\n",
    "        return 'Negative'\n",
    "    elif num >= 0.05:\n",
    "        return 'Positive'\n",
    "    else:\n",
    "        return 'Neutral'"
   ]
  },
  {
   "cell_type": "code",
   "execution_count": 33,
   "id": "4fe00fdc",
   "metadata": {},
   "outputs": [],
   "source": [
    "newdf['Label'] = newdf['compound'].apply(add_label)"
   ]
  },
  {
   "cell_type": "code",
   "execution_count": 34,
   "id": "d99db3d4",
   "metadata": {
    "scrolled": true
   },
   "outputs": [
    {
     "data": {
      "text/html": [
       "<div>\n",
       "<style scoped>\n",
       "    .dataframe tbody tr th:only-of-type {\n",
       "        vertical-align: middle;\n",
       "    }\n",
       "\n",
       "    .dataframe tbody tr th {\n",
       "        vertical-align: top;\n",
       "    }\n",
       "\n",
       "    .dataframe thead th {\n",
       "        text-align: right;\n",
       "    }\n",
       "</style>\n",
       "<table border=\"1\" class=\"dataframe\">\n",
       "  <thead>\n",
       "    <tr style=\"text-align: right;\">\n",
       "      <th></th>\n",
       "      <th>ID</th>\n",
       "      <th>MEMBER_ID</th>\n",
       "      <th>COMMENT</th>\n",
       "      <th>neg</th>\n",
       "      <th>neu</th>\n",
       "      <th>pos</th>\n",
       "      <th>compound</th>\n",
       "      <th>Label</th>\n",
       "    </tr>\n",
       "  </thead>\n",
       "  <tbody>\n",
       "    <tr>\n",
       "      <th>0</th>\n",
       "      <td>a2p1U000000RowfQAC</td>\n",
       "      <td>0011U00000rjFKdQAM</td>\n",
       "      <td>I showed up for my appointment, but they had m...</td>\n",
       "      <td>0.0</td>\n",
       "      <td>0.770</td>\n",
       "      <td>0.230</td>\n",
       "      <td>0.9262</td>\n",
       "      <td>Positive</td>\n",
       "    </tr>\n",
       "    <tr>\n",
       "      <th>1</th>\n",
       "      <td>a2p1U000000RqQqQAK</td>\n",
       "      <td>0011U00000riCSHQA2</td>\n",
       "      <td>Staff was polite, courteous, and on time</td>\n",
       "      <td>0.0</td>\n",
       "      <td>0.645</td>\n",
       "      <td>0.355</td>\n",
       "      <td>0.5106</td>\n",
       "      <td>Positive</td>\n",
       "    </tr>\n",
       "    <tr>\n",
       "      <th>2</th>\n",
       "      <td>a2p1U000000RqXyQAK</td>\n",
       "      <td>0011U00000riTw7QAE</td>\n",
       "      <td>Overall care is great!  It's wonderful to be a...</td>\n",
       "      <td>0.0</td>\n",
       "      <td>0.554</td>\n",
       "      <td>0.446</td>\n",
       "      <td>0.9060</td>\n",
       "      <td>Positive</td>\n",
       "    </tr>\n",
       "    <tr>\n",
       "      <th>3</th>\n",
       "      <td>a2p1U000000Rq1LQAS</td>\n",
       "      <td>0011U00000rhu8eQAA</td>\n",
       "      <td>Like the doctor and staff at this location. Ea...</td>\n",
       "      <td>0.0</td>\n",
       "      <td>0.671</td>\n",
       "      <td>0.329</td>\n",
       "      <td>0.6597</td>\n",
       "      <td>Positive</td>\n",
       "    </tr>\n",
       "    <tr>\n",
       "      <th>4</th>\n",
       "      <td>a2p1U000000RpiuQAC</td>\n",
       "      <td>0011U00000rk4SHQAY</td>\n",
       "      <td>The convenience and the doctors</td>\n",
       "      <td>0.0</td>\n",
       "      <td>1.000</td>\n",
       "      <td>0.000</td>\n",
       "      <td>0.0000</td>\n",
       "      <td>Negative</td>\n",
       "    </tr>\n",
       "  </tbody>\n",
       "</table>\n",
       "</div>"
      ],
      "text/plain": [
       "                   ID           MEMBER_ID  \\\n",
       "0  a2p1U000000RowfQAC  0011U00000rjFKdQAM   \n",
       "1  a2p1U000000RqQqQAK  0011U00000riCSHQA2   \n",
       "2  a2p1U000000RqXyQAK  0011U00000riTw7QAE   \n",
       "3  a2p1U000000Rq1LQAS  0011U00000rhu8eQAA   \n",
       "4  a2p1U000000RpiuQAC  0011U00000rk4SHQAY   \n",
       "\n",
       "                                             COMMENT  neg    neu    pos  \\\n",
       "0  I showed up for my appointment, but they had m...  0.0  0.770  0.230   \n",
       "1           Staff was polite, courteous, and on time  0.0  0.645  0.355   \n",
       "2  Overall care is great!  It's wonderful to be a...  0.0  0.554  0.446   \n",
       "3  Like the doctor and staff at this location. Ea...  0.0  0.671  0.329   \n",
       "4                    The convenience and the doctors  0.0  1.000  0.000   \n",
       "\n",
       "   compound     Label  \n",
       "0    0.9262  Positive  \n",
       "1    0.5106  Positive  \n",
       "2    0.9060  Positive  \n",
       "3    0.6597  Positive  \n",
       "4    0.0000  Negative  "
      ]
     },
     "execution_count": 34,
     "metadata": {},
     "output_type": "execute_result"
    }
   ],
   "source": [
    "newdf.head()"
   ]
  },
  {
   "cell_type": "code",
   "execution_count": 35,
   "id": "97035ac9",
   "metadata": {},
   "outputs": [],
   "source": [
    "newdf.to_csv('Dataset with sentiments.csv')"
   ]
  },
  {
   "cell_type": "markdown",
   "id": "9bf4f9f7",
   "metadata": {},
   "source": [
    "***"
   ]
  }
 ],
 "metadata": {
  "kernelspec": {
   "display_name": "Python 3 (ipykernel)",
   "language": "python",
   "name": "python3"
  },
  "language_info": {
   "codemirror_mode": {
    "name": "ipython",
    "version": 3
   },
   "file_extension": ".py",
   "mimetype": "text/x-python",
   "name": "python",
   "nbconvert_exporter": "python",
   "pygments_lexer": "ipython3",
   "version": "3.10.9"
  }
 },
 "nbformat": 4,
 "nbformat_minor": 5
}
