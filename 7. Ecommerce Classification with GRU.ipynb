{
 "cells": [
  {
   "cell_type": "markdown",
   "id": "8423d625",
   "metadata": {},
   "source": [
    "# <span style = \"color:coral;font-size:40px\"> Ecommerce Classification </span>"
   ]
  },
  {
   "cell_type": "markdown",
   "id": "7cc0975f",
   "metadata": {},
   "source": [
    "***"
   ]
  },
  {
   "cell_type": "markdown",
   "id": "d6550d6e",
   "metadata": {},
   "source": [
    "This dataset contains images of Television, Sofas, Jeans and T-shirt. It Actual raw and unstructured image data extracted from online sites.\n",
    "\n",
    "All images are of different sites. You may also find some junk images in data for example in television dataset you will find the television remote images."
   ]
  },
  {
   "cell_type": "markdown",
   "id": "5a5b290e",
   "metadata": {},
   "source": [
    "Download the dataset from this website: <a href = \"https://www.kaggle.com/datasets/saurabhshahane/ecommerce-text-classification\"> Here </a>"
   ]
  },
  {
   "cell_type": "markdown",
   "id": "6dc02b96",
   "metadata": {},
   "source": [
    "## Import Necessary Libraries"
   ]
  },
  {
   "cell_type": "code",
   "execution_count": 1,
   "id": "9d272d88",
   "metadata": {},
   "outputs": [],
   "source": [
    "import numpy as np\n",
    "import pandas as pd\n",
    "import matplotlib.pyplot as plt\n",
    "import seaborn as sns\n",
    "from sklearn.model_selection import train_test_split\n",
    "from nltk.corpus import stopwords\n",
    "from nltk.stem import WordNetLemmatizer\n",
    "import re\n",
    "from sklearn.preprocessing import LabelBinarizer\n",
    "from keras.preprocessing.text import Tokenizer\n",
    "from tensorflow.keras.preprocessing.sequence import pad_sequences\n",
    "from keras import layers\n",
    "from keras import Sequential\n",
    "from sklearn.metrics import accuracy_score, confusion_matrix,classification_report"
   ]
  },
  {
   "cell_type": "markdown",
   "id": "c561644e",
   "metadata": {},
   "source": [
    "### Read 'ecommerceDataset.csv' and set seperate column names"
   ]
  },
  {
   "cell_type": "code",
   "execution_count": 3,
   "id": "9e6f5ef5",
   "metadata": {},
   "outputs": [],
   "source": [
    "df = pd.read_csv('ecommerceDataset.csv', names = ['Target', 'Description'])"
   ]
  },
  {
   "cell_type": "code",
   "execution_count": 4,
   "id": "c4d62de7",
   "metadata": {},
   "outputs": [
    {
     "data": {
      "text/html": [
       "<div>\n",
       "<style scoped>\n",
       "    .dataframe tbody tr th:only-of-type {\n",
       "        vertical-align: middle;\n",
       "    }\n",
       "\n",
       "    .dataframe tbody tr th {\n",
       "        vertical-align: top;\n",
       "    }\n",
       "\n",
       "    .dataframe thead th {\n",
       "        text-align: right;\n",
       "    }\n",
       "</style>\n",
       "<table border=\"1\" class=\"dataframe\">\n",
       "  <thead>\n",
       "    <tr style=\"text-align: right;\">\n",
       "      <th></th>\n",
       "      <th>Target</th>\n",
       "      <th>Description</th>\n",
       "    </tr>\n",
       "  </thead>\n",
       "  <tbody>\n",
       "    <tr>\n",
       "      <th>0</th>\n",
       "      <td>Household</td>\n",
       "      <td>Paper Plane Design Framed Wall Hanging Motivat...</td>\n",
       "    </tr>\n",
       "    <tr>\n",
       "      <th>1</th>\n",
       "      <td>Household</td>\n",
       "      <td>SAF 'Floral' Framed Painting (Wood, 30 inch x ...</td>\n",
       "    </tr>\n",
       "    <tr>\n",
       "      <th>2</th>\n",
       "      <td>Household</td>\n",
       "      <td>SAF 'UV Textured Modern Art Print Framed' Pain...</td>\n",
       "    </tr>\n",
       "    <tr>\n",
       "      <th>3</th>\n",
       "      <td>Household</td>\n",
       "      <td>SAF Flower Print Framed Painting (Synthetic, 1...</td>\n",
       "    </tr>\n",
       "    <tr>\n",
       "      <th>4</th>\n",
       "      <td>Household</td>\n",
       "      <td>Incredible Gifts India Wooden Happy Birthday U...</td>\n",
       "    </tr>\n",
       "  </tbody>\n",
       "</table>\n",
       "</div>"
      ],
      "text/plain": [
       "      Target                                        Description\n",
       "0  Household  Paper Plane Design Framed Wall Hanging Motivat...\n",
       "1  Household  SAF 'Floral' Framed Painting (Wood, 30 inch x ...\n",
       "2  Household  SAF 'UV Textured Modern Art Print Framed' Pain...\n",
       "3  Household  SAF Flower Print Framed Painting (Synthetic, 1...\n",
       "4  Household  Incredible Gifts India Wooden Happy Birthday U..."
      ]
     },
     "execution_count": 4,
     "metadata": {},
     "output_type": "execute_result"
    }
   ],
   "source": [
    "df.head()"
   ]
  },
  {
   "cell_type": "markdown",
   "id": "a00b65ca",
   "metadata": {},
   "source": [
    "### Check info of the dataset"
   ]
  },
  {
   "cell_type": "code",
   "execution_count": 5,
   "id": "a23cba1e",
   "metadata": {},
   "outputs": [
    {
     "name": "stdout",
     "output_type": "stream",
     "text": [
      "<class 'pandas.core.frame.DataFrame'>\n",
      "RangeIndex: 50425 entries, 0 to 50424\n",
      "Data columns (total 2 columns):\n",
      " #   Column       Non-Null Count  Dtype \n",
      "---  ------       --------------  ----- \n",
      " 0   Target       50425 non-null  object\n",
      " 1   Description  50424 non-null  object\n",
      "dtypes: object(2)\n",
      "memory usage: 788.0+ KB\n"
     ]
    }
   ],
   "source": [
    "df.info()"
   ]
  },
  {
   "cell_type": "markdown",
   "id": "f60184ad",
   "metadata": {},
   "source": [
    "### View basic statistical information about the dataset"
   ]
  },
  {
   "cell_type": "code",
   "execution_count": 6,
   "id": "dbd798f2",
   "metadata": {},
   "outputs": [
    {
     "data": {
      "text/html": [
       "<div>\n",
       "<style scoped>\n",
       "    .dataframe tbody tr th:only-of-type {\n",
       "        vertical-align: middle;\n",
       "    }\n",
       "\n",
       "    .dataframe tbody tr th {\n",
       "        vertical-align: top;\n",
       "    }\n",
       "\n",
       "    .dataframe thead th {\n",
       "        text-align: right;\n",
       "    }\n",
       "</style>\n",
       "<table border=\"1\" class=\"dataframe\">\n",
       "  <thead>\n",
       "    <tr style=\"text-align: right;\">\n",
       "      <th></th>\n",
       "      <th>Target</th>\n",
       "      <th>Description</th>\n",
       "    </tr>\n",
       "  </thead>\n",
       "  <tbody>\n",
       "    <tr>\n",
       "      <th>count</th>\n",
       "      <td>50425</td>\n",
       "      <td>50424</td>\n",
       "    </tr>\n",
       "    <tr>\n",
       "      <th>unique</th>\n",
       "      <td>4</td>\n",
       "      <td>27802</td>\n",
       "    </tr>\n",
       "    <tr>\n",
       "      <th>top</th>\n",
       "      <td>Household</td>\n",
       "      <td>Think &amp; Grow Rich About the Author NAPOLEON HI...</td>\n",
       "    </tr>\n",
       "    <tr>\n",
       "      <th>freq</th>\n",
       "      <td>19313</td>\n",
       "      <td>30</td>\n",
       "    </tr>\n",
       "  </tbody>\n",
       "</table>\n",
       "</div>"
      ],
      "text/plain": [
       "           Target                                        Description\n",
       "count       50425                                              50424\n",
       "unique          4                                              27802\n",
       "top     Household  Think & Grow Rich About the Author NAPOLEON HI...\n",
       "freq        19313                                                 30"
      ]
     },
     "execution_count": 6,
     "metadata": {},
     "output_type": "execute_result"
    }
   ],
   "source": [
    "df.describe()"
   ]
  },
  {
   "cell_type": "markdown",
   "id": "e1af80c2",
   "metadata": {},
   "source": [
    "### Check for duplicates"
   ]
  },
  {
   "cell_type": "code",
   "execution_count": 7,
   "id": "314800ba",
   "metadata": {},
   "outputs": [
    {
     "data": {
      "text/plain": [
       "22622"
      ]
     },
     "execution_count": 7,
     "metadata": {},
     "output_type": "execute_result"
    }
   ],
   "source": [
    "df.duplicated().sum()"
   ]
  },
  {
   "cell_type": "markdown",
   "id": "89204b7e",
   "metadata": {},
   "source": [
    "### Drop duplicates, if Any"
   ]
  },
  {
   "cell_type": "code",
   "execution_count": 8,
   "id": "7fbafee6",
   "metadata": {},
   "outputs": [],
   "source": [
    "df.drop_duplicates(inplace = True, keep = 'first')"
   ]
  },
  {
   "cell_type": "markdown",
   "id": "450fb4ed",
   "metadata": {},
   "source": [
    "### Check for null values"
   ]
  },
  {
   "cell_type": "code",
   "execution_count": 9,
   "id": "4e8cbf0a",
   "metadata": {},
   "outputs": [
    {
     "data": {
      "text/plain": [
       "Target         0\n",
       "Description    1\n",
       "dtype: int64"
      ]
     },
     "execution_count": 9,
     "metadata": {},
     "output_type": "execute_result"
    }
   ],
   "source": [
    "df.isna().sum()"
   ]
  },
  {
   "cell_type": "markdown",
   "id": "1bc135c9",
   "metadata": {},
   "source": [
    "### Drop rows with null values, if Any"
   ]
  },
  {
   "cell_type": "code",
   "execution_count": 10,
   "id": "7b665cc5",
   "metadata": {},
   "outputs": [],
   "source": [
    "df.dropna(inplace = True)"
   ]
  },
  {
   "cell_type": "markdown",
   "id": "2ca61c1e",
   "metadata": {},
   "source": [
    "### Plot countplot of 'Target' Variable"
   ]
  },
  {
   "cell_type": "code",
   "execution_count": 11,
   "id": "de279def",
   "metadata": {},
   "outputs": [
    {
     "data": {
      "image/png": "[encoded data removed]",
      "text/plain": [
       "<Figure size 720x576 with 1 Axes>"
      ]
     },
     "metadata": {
      "needs_background": "light"
     },
     "output_type": "display_data"
    }
   ],
   "source": [
    "plt.figure(figsize = (10,8))\n",
    "sns.countplot(y = df['Target'])\n",
    "plt.show()"
   ]
  },
  {
   "cell_type": "markdown",
   "id": "cf579b8c",
   "metadata": {},
   "source": [
    "### Reset the index"
   ]
  },
  {
   "cell_type": "code",
   "execution_count": 12,
   "id": "71f4c3fb",
   "metadata": {},
   "outputs": [],
   "source": [
    "df.reset_index(inplace = True)"
   ]
  },
  {
   "cell_type": "markdown",
   "id": "3ddea261",
   "metadata": {},
   "source": [
    "### Shuffle the dataset"
   ]
  },
  {
   "cell_type": "code",
   "execution_count": 13,
   "id": "336a53dc",
   "metadata": {},
   "outputs": [],
   "source": [
    "df = df.sample(frac=1).reset_index(drop=True)"
   ]
  },
  {
   "cell_type": "markdown",
   "id": "fa8baea8",
   "metadata": {},
   "source": [
    "### Print some of the text data"
   ]
  },
  {
   "cell_type": "code",
   "execution_count": 14,
   "id": "7eda2bfa",
   "metadata": {},
   "outputs": [
    {
     "name": "stdout",
     "output_type": "stream",
     "text": [
      "Abraham Lincoln: A Complete Biography (General Press) About the Author Lord Charnwood, a British by birth, was a man of many affairs and much learning. He had training in historical research and his work exhibits evidences of industrious and careful investigation. He made close examination of American newspapers of the period covered and has had access to original manuscript archives in the State and Navy departments at Washington.\n",
      "\n",
      "Action Pro Front Helmet Mount for Gopro 7 6 5 3 4 Session Yi 4K SJCAM SJ5000x Action Camera Accessories Kit Curved Sticker J-Hook Bracket Features  Made of poly carbonate and stainless steel, high quality and durable. It allows directions adjustable to make your GoPro in the ideal shooting angle you desire. Stable and solid,multi function,wide application range Perfect for skiing, surfing, racing or any other extreme sports Compatible with: GoPro HD Hero 7 6 5 43+ 3 2 1 SJCAM YI EKAN etc.  Package Include  2 X Straight joint (1 long and1 short) 1 X J-Hook buckle 1 X Flat Mount with adhesive 1 X Curved Mount with adhesive 2 X Thumb screws  Note : Not included the CAMERA show in the picture.\n",
      "\n",
      "Kanchnar Women's Silk Banarasi Dupatta You would love to wear this Poly Silk Banarasi Dupatta on every occasion where you go with your loved once. It will give you a unique, hot, sensuous look. .A must have clothing accessories for your ethnic dresses.||Disclaimer: Product actual image may very slightly from web image.\n",
      "\n",
      "PagKis Set of 3 ESD Safe Tweezers for Electronics Repair - Slim Tip Pointed, Round Blunt and Curved Pointed Tip\n",
      "\n",
      "Warrior of the Light: A Manual Review “[This] Brazilian wizard makes books disappear from stores.” (New York Times)“[His] books have had a life-enchanting effect on millions of people.” (London Times) \t\t\t\t    \t \t\t\t\t\t Language Notes Text: English (translation) Original Language: Portugese \t\t\t\t    \t \t\t\t\t\t              See all Product description\n",
      "\n",
      "Uttar Pradesh General Knowledge 2019 \n",
      "\n",
      "Campus Sutra Women's Cotton Jacket Freshen up your winter wardrobe with this sweatshirt for women from Campus Sutra. This sweatshirt is made of 100% cotton, the cotton fabric of sweatshirt spells pure comfort and warmth ,fetch a casual and cool look for yourself by teaming it with a pair of jeans and sneakers.\n",
      "\n",
      "ABZORBT-IT Moisture Absorber Mini Pack, 180g Excess moisture causes unpleasant odours, respiratory disease & allergies.Excess moisture also leads to condensation which can be harmful to buildings & objects, causing spots & mould. By using abzorb-it excess moisture can be absorbed from the rooms & enclosed spaces, benefits your health & property\n",
      "\n",
      "Systematic Theology: An Introduction to Biblical Doctrine From the Author Wayne Grudem is professor of biblical and systematic theology at Trinitiy Evangelical Divinity School in Deerfield, Illinois. He holds degrees from Harvard (B.A.), Westminster Seminary (M.Div.), and Cambridge (Ph.D.). He is the co-editor of Recovering Biblical Manhood and Womanhood \t\t\t\t    \t \t\t\t\t\t From the Back Cover The Christian church has a long tradition of systematic theology, that is, studying theology and doctrine organized around fairly standard categories such as the Word of God, redemption, and Jesus Christ. This introduction to systematic theology has several distinctive features: - A strong emphasis on the scriptural basis for each doctrine and teaching - Clear writing, with technical terms kept to a minimum - A contemporary approach, treating subjects of special interest to the church today - A friendly tone, appealing to the emotions and the spirit as well as the intellect - Frequent application to life - Resources for worship with each chapter - Bibliographies with each chapter that cross-reference subjects to a wide range of other systematic theologies. \t\t\t\t    \t \t\t\t\t\t              See all Product description\n",
      "\n",
      "Esaw Medical Microscope with LED and 50 Prepared Slides (White) All the glass optics, para focal, centered, high numerical aperture, high resolution with special coating having no effect of moisture, fungus, fogginess or any other weather effect with passage of time.\n",
      "\n"
     ]
    }
   ],
   "source": [
    "for i in range(10):\n",
    "    print(df['Description'][i])\n",
    "    print()"
   ]
  },
  {
   "cell_type": "markdown",
   "id": "2da090ef",
   "metadata": {},
   "source": [
    "### Create a preprocess function that does the following operations\n",
    "    * Convert all the words to lowercase\n",
    "    * Remove any special symbols or characters\n",
    "    * Lemmatize all the words\n",
    "    * Remove all the stopwords"
   ]
  },
  {
   "cell_type": "code",
   "execution_count": 15,
   "id": "ab585415",
   "metadata": {},
   "outputs": [],
   "source": [
    "def preprocess(sentence):\n",
    "    text = re.sub(r\"[^a-zA-Z0-9]\",\" \",sentence).split()\n",
    "    words = [x.lower() for x in text if x not in stopwords.words('english')]\n",
    "    lemma = WordNetLemmatizer()\n",
    "    word = [lemma.lemmatize(word,'v') for word in words ]\n",
    "    word = ' '.join(word)\n",
    "    return word"
   ]
  },
  {
   "cell_type": "markdown",
   "id": "1b8b3353",
   "metadata": {},
   "source": [
    "### Apply the preprocess function to the text column"
   ]
  },
  {
   "cell_type": "code",
   "execution_count": 16,
   "id": "dee239c5",
   "metadata": {},
   "outputs": [],
   "source": [
    "df = df[0:1000]"
   ]
  },
  {
   "cell_type": "code",
   "execution_count": 17,
   "id": "af352c88",
   "metadata": {},
   "outputs": [],
   "source": [
    "df['Description'] = df['Description'].apply(preprocess)"
   ]
  },
  {
   "cell_type": "markdown",
   "id": "ceaa6e41",
   "metadata": {},
   "source": [
    "### Print some of the texts after the preprocess function"
   ]
  },
  {
   "cell_type": "code",
   "execution_count": 18,
   "id": "d65a4213",
   "metadata": {},
   "outputs": [
    {
     "name": "stdout",
     "output_type": "stream",
     "text": [
      "abraham lincoln a complete biography general press about author lord charnwood british birth man many affairs much learn he train historical research work exhibit evidence industrious careful investigation he make close examination american newspapers period cover access original manuscript archive state navy departments washington\n",
      "\n",
      "action pro front helmet mount gopro 7 6 5 3 4 session yi 4k sjcam sj5000x action camera accessories kit curve sticker j hook bracket feature make poly carbonate stainless steel high quality durable it allow directions adjustable make gopro ideal shoot angle desire stable solid multi function wide application range perfect ski surf race extreme sport compatible gopro hd hero 7 6 5 43 3 2 1 sjcam yi ekan etc package include 2 x straight joint 1 long and1 short 1 x j hook buckle 1 x flat mount adhesive 1 x curve mount adhesive 2 x thumb screw note not include camera show picture\n",
      "\n",
      "kanchnar women silk banarasi dupatta you would love wear poly silk banarasi dupatta every occasion go love it give unique hot sensuous look a must clothe accessories ethnic dress disclaimer product actual image may slightly web image\n",
      "\n",
      "pagkis set 3 esd safe tweezers electronics repair slim tip point round blunt curve point tip\n",
      "\n",
      "warrior light a manual review this brazilian wizard make book disappear store new york time his book life enchant effect millions people london time language note text english translation original language portugese see product description\n",
      "\n",
      "uttar pradesh general knowledge 2019\n",
      "\n",
      "campus sutra women cotton jacket freshen winter wardrobe sweatshirt women campus sutra this sweatshirt make 100 cotton cotton fabric sweatshirt spell pure comfort warmth fetch casual cool look team pair jeans sneakers\n",
      "\n",
      "abzorbt it moisture absorber mini pack 180g excess moisture cause unpleasant odours respiratory disease allergies excess moisture also lead condensation harmful build object cause spot mould by use abzorb excess moisture absorb room enclose space benefit health property\n",
      "\n",
      "systematic theology an introduction biblical doctrine from author wayne grudem professor biblical systematic theology trinitiy evangelical divinity school deerfield illinois he hold degrees harvard b a westminster seminary m div cambridge ph d he co editor recover biblical manhood womanhood from back cover the christian church long tradition systematic theology study theology doctrine organize around fairly standard categories word god redemption jesus christ this introduction systematic theology several distinctive feature a strong emphasis scriptural basis doctrine teach clear write technical term keep minimum a contemporary approach treat subject special interest church today a friendly tone appeal emotions spirit well intellect frequent application life resources worship chapter bibliographies chapter cross reference subject wide range systematic theologies see product description\n",
      "\n",
      "esaw medical microscope lead 50 prepare slide white all glass optics para focal center high numerical aperture high resolution special coat effect moisture fungus fogginess weather effect passage time\n",
      "\n"
     ]
    }
   ],
   "source": [
    "for i in range(10):\n",
    "    print(df['Description'][i])\n",
    "    print()"
   ]
  },
  {
   "cell_type": "markdown",
   "id": "5cd1aa91",
   "metadata": {},
   "source": [
    "### Split the dataset into Input & Target Variables"
   ]
  },
  {
   "cell_type": "code",
   "execution_count": 19,
   "id": "a2d69fa8",
   "metadata": {},
   "outputs": [],
   "source": [
    "X = df['Description']\n",
    "y = df['Target']"
   ]
  },
  {
   "cell_type": "markdown",
   "id": "93027059",
   "metadata": {},
   "source": [
    "### One Hot Encode the target variables"
   ]
  },
  {
   "cell_type": "code",
   "execution_count": 20,
   "id": "1e970977",
   "metadata": {},
   "outputs": [],
   "source": [
    "encoder = LabelBinarizer()\n",
    "y = encoder.fit_transform(y)"
   ]
  },
  {
   "cell_type": "code",
   "execution_count": 21,
   "id": "dcc39bb1",
   "metadata": {},
   "outputs": [],
   "source": [
    "labels = encoder.classes_"
   ]
  },
  {
   "cell_type": "code",
   "execution_count": 22,
   "id": "e4b9ba6a",
   "metadata": {},
   "outputs": [
    {
     "data": {
      "text/plain": [
       "array(['Books', 'Clothing & Accessories', 'Electronics', 'Household'],\n",
       "      dtype='<U22')"
      ]
     },
     "execution_count": 22,
     "metadata": {},
     "output_type": "execute_result"
    }
   ],
   "source": [
    "encoder.classes_"
   ]
  },
  {
   "cell_type": "markdown",
   "id": "8560ff2b",
   "metadata": {},
   "source": [
    "### Convert text to sequence and add padding"
   ]
  },
  {
   "cell_type": "code",
   "execution_count": 23,
   "id": "51fee6b3",
   "metadata": {},
   "outputs": [],
   "source": [
    "tokenizer = Tokenizer(num_words=5000)"
   ]
  },
  {
   "cell_type": "code",
   "execution_count": 24,
   "id": "c340c54d",
   "metadata": {},
   "outputs": [],
   "source": [
    "tokenizer.fit_on_texts(X)"
   ]
  },
  {
   "cell_type": "code",
   "execution_count": 25,
   "id": "f746862b",
   "metadata": {},
   "outputs": [],
   "source": [
    "vocab_size = len(tokenizer.word_index) + 1"
   ]
  },
  {
   "cell_type": "code",
   "execution_count": 26,
   "id": "5b94dfcc",
   "metadata": {},
   "outputs": [],
   "source": [
    "def text_encoding(txt):\n",
    "    encoded_docs = tokenizer.texts_to_sequences(txt)\n",
    "    \n",
    "    padded_sequence = pad_sequences(encoded_docs, maxlen = 128)\n",
    "    \n",
    "    return padded_sequence"
   ]
  },
  {
   "cell_type": "code",
   "execution_count": 27,
   "id": "818df987",
   "metadata": {},
   "outputs": [],
   "source": [
    "X = text_encoding(X)"
   ]
  },
  {
   "cell_type": "markdown",
   "id": "cf8e15dc",
   "metadata": {},
   "source": [
    "### Split the dataset into training & Testing set"
   ]
  },
  {
   "cell_type": "code",
   "execution_count": 28,
   "id": "c9210ccf",
   "metadata": {},
   "outputs": [],
   "source": [
    "X_train, X_test,y_train,y_test = train_test_split(X,y,test_size=0.2, random_state = 100)"
   ]
  },
  {
   "cell_type": "markdown",
   "id": "eaf6d03e",
   "metadata": {},
   "source": [
    "### Create a keras Sequential model with LSTM Layers"
   ]
  },
  {
   "cell_type": "code",
   "execution_count": 29,
   "id": "5c79238f",
   "metadata": {},
   "outputs": [],
   "source": [
    "model = Sequential()\n",
    "\n",
    "model.add(layers.Embedding(vocab_size, 128))\n",
    "\n",
    "model.add(layers.GRU(256, return_sequences=True))\n",
    "model.add(layers.Dropout(0.3))\n",
    "\n",
    "model.add(layers.GRU(128))\n",
    "model.add(layers.Dropout(0.3))\n",
    "\n",
    "model.add(layers.Dense(64, activation = 'relu'))\n",
    "model.add(layers.Dropout(0.2))\n",
    "model.add(layers.Dense(4, activation = 'softmax'))"
   ]
  },
  {
   "cell_type": "code",
   "execution_count": 30,
   "id": "27a263a7",
   "metadata": {},
   "outputs": [
    {
     "name": "stdout",
     "output_type": "stream",
     "text": [
      "Model: \"sequential\"\n",
      "_________________________________________________________________\n",
      " Layer (type)                Output Shape              Param #   \n",
      "=================================================================\n",
      " embedding (Embedding)       (None, None, 128)         1484672   \n",
      "                                                                 \n",
      " gru (GRU)                   (None, None, 256)         296448    \n",
      "                                                                 \n",
      " dropout (Dropout)           (None, None, 256)         0         \n",
      "                                                                 \n",
      " gru_1 (GRU)                 (None, 128)               148224    \n",
      "                                                                 \n",
      " dropout_1 (Dropout)         (None, 128)               0         \n",
      "                                                                 \n",
      " dense (Dense)               (None, 64)                8256      \n",
      "                                                                 \n",
      " dropout_2 (Dropout)         (None, 64)                0         \n",
      "                                                                 \n",
      " dense_1 (Dense)             (None, 4)                 260       \n",
      "                                                                 \n",
      "=================================================================\n",
      "Total params: 1,937,860\n",
      "Trainable params: 1,937,860\n",
      "Non-trainable params: 0\n",
      "_________________________________________________________________\n"
     ]
    }
   ],
   "source": [
    "model.summary()"
   ]
  },
  {
   "cell_type": "markdown",
   "id": "1dcd9067",
   "metadata": {},
   "source": [
    "### Compile the model"
   ]
  },
  {
   "cell_type": "code",
   "execution_count": 31,
   "id": "a42ef76a",
   "metadata": {},
   "outputs": [],
   "source": [
    "model.compile(optimizer = 'adam', loss = 'categorical_crossentropy', metrics= ['accuracy'])"
   ]
  },
  {
   "cell_type": "markdown",
   "id": "19c96de4",
   "metadata": {},
   "source": [
    "### Train the model"
   ]
  },
  {
   "cell_type": "code",
   "execution_count": 32,
   "id": "48820d1a",
   "metadata": {
    "scrolled": false
   },
   "outputs": [
    {
     "name": "stdout",
     "output_type": "stream",
     "text": [
      "Epoch 1/10\n",
      "23/23 [==============================] - 12s 301ms/step - loss: 1.3402 - accuracy: 0.3972 - val_loss: 1.2146 - val_accuracy: 0.4875\n",
      "Epoch 2/10\n",
      "23/23 [==============================] - 6s 256ms/step - loss: 0.9822 - accuracy: 0.5569 - val_loss: 0.8751 - val_accuracy: 0.6125\n",
      "Epoch 3/10\n",
      "23/23 [==============================] - 6s 265ms/step - loss: 0.4194 - accuracy: 0.8597 - val_loss: 0.8184 - val_accuracy: 0.6875\n",
      "Epoch 4/10\n",
      "23/23 [==============================] - 6s 282ms/step - loss: 0.1425 - accuracy: 0.9569 - val_loss: 0.8171 - val_accuracy: 0.7750\n",
      "Epoch 5/10\n",
      "23/23 [==============================] - 6s 266ms/step - loss: 0.1083 - accuracy: 0.9750 - val_loss: 0.8984 - val_accuracy: 0.7500\n",
      "Epoch 6/10\n",
      "23/23 [==============================] - 6s 262ms/step - loss: 0.0224 - accuracy: 0.9931 - val_loss: 1.0505 - val_accuracy: 0.7625\n",
      "Epoch 7/10\n",
      "23/23 [==============================] - 6s 240ms/step - loss: 0.0090 - accuracy: 0.9986 - val_loss: 1.2098 - val_accuracy: 0.7500\n",
      "Epoch 8/10\n",
      "23/23 [==============================] - 5s 238ms/step - loss: 0.0147 - accuracy: 0.9944 - val_loss: 1.1724 - val_accuracy: 0.7500\n",
      "Epoch 9/10\n",
      "23/23 [==============================] - 6s 258ms/step - loss: 0.0049 - accuracy: 1.0000 - val_loss: 1.2947 - val_accuracy: 0.7625\n",
      "Epoch 10/10\n",
      "23/23 [==============================] - 6s 265ms/step - loss: 0.0017 - accuracy: 1.0000 - val_loss: 1.3291 - val_accuracy: 0.7500\n",
      "CPU times: total: 3min 13s\n",
      "Wall time: 1min 5s\n"
     ]
    },
    {
     "data": {
      "text/plain": [
       "<keras.callbacks.History at 0x14f5681a070>"
      ]
     },
     "execution_count": 32,
     "metadata": {},
     "output_type": "execute_result"
    }
   ],
   "source": [
    "%time model.fit(X_train,y_train, epochs=10, validation_split=0.1)"
   ]
  },
  {
   "cell_type": "markdown",
   "id": "abf89278",
   "metadata": {},
   "source": [
    "### Make predictions with X_test"
   ]
  },
  {
   "cell_type": "code",
   "execution_count": 33,
   "id": "87729880",
   "metadata": {},
   "outputs": [
    {
     "name": "stdout",
     "output_type": "stream",
     "text": [
      "7/7 [==============================] - 1s 59ms/step\n"
     ]
    }
   ],
   "source": [
    "y_pred = model.predict(X_test)"
   ]
  },
  {
   "cell_type": "code",
   "execution_count": 34,
   "id": "7a43d418",
   "metadata": {},
   "outputs": [],
   "source": [
    "y_pred = [np.argmax(i) for i in y_pred]"
   ]
  },
  {
   "cell_type": "code",
   "execution_count": 35,
   "id": "9d2223b5",
   "metadata": {},
   "outputs": [],
   "source": [
    "y_test = [np.argmax(i) for i in y_test]"
   ]
  },
  {
   "cell_type": "markdown",
   "id": "00c4e5dd",
   "metadata": {},
   "source": [
    "### Model Evaluation"
   ]
  },
  {
   "cell_type": "markdown",
   "id": "49d63ae6",
   "metadata": {},
   "source": [
    "### Accuracy Score"
   ]
  },
  {
   "cell_type": "code",
   "execution_count": 36,
   "id": "3924124c",
   "metadata": {},
   "outputs": [
    {
     "data": {
      "text/plain": [
       "0.725"
      ]
     },
     "execution_count": 36,
     "metadata": {},
     "output_type": "execute_result"
    }
   ],
   "source": [
    "accuracy_score(y_test,y_pred)"
   ]
  },
  {
   "cell_type": "markdown",
   "id": "5a69c454",
   "metadata": {},
   "source": [
    "### Confusion Matrix"
   ]
  },
  {
   "cell_type": "code",
   "execution_count": 37,
   "id": "9302f615",
   "metadata": {},
   "outputs": [
    {
     "data": {
      "text/plain": [
       "<AxesSubplot:>"
      ]
     },
     "execution_count": 37,
     "metadata": {},
     "output_type": "execute_result"
    },
    {
     "data": {
      "image/png": "[encoded data removed]",
      "text/plain": [
       "<Figure size 432x288 with 2 Axes>"
      ]
     },
     "metadata": {
      "needs_background": "light"
     },
     "output_type": "display_data"
    }
   ],
   "source": [
    "sns.heatmap(confusion_matrix(y_test,y_pred), annot = True)"
   ]
  },
  {
   "cell_type": "markdown",
   "id": "845c543f",
   "metadata": {},
   "source": [
    "### Classification Report"
   ]
  },
  {
   "cell_type": "code",
   "execution_count": 38,
   "id": "00554286",
   "metadata": {},
   "outputs": [
    {
     "name": "stdout",
     "output_type": "stream",
     "text": [
      "              precision    recall  f1-score   support\n",
      "\n",
      "           0       0.82      0.78      0.80        54\n",
      "           1       0.86      0.65      0.74        46\n",
      "           2       0.68      0.59      0.63        44\n",
      "           3       0.62      0.84      0.71        56\n",
      "\n",
      "    accuracy                           0.73       200\n",
      "   macro avg       0.75      0.72      0.72       200\n",
      "weighted avg       0.74      0.72      0.73       200\n",
      "\n"
     ]
    }
   ],
   "source": [
    "print(classification_report(y_test,y_pred))"
   ]
  },
  {
   "cell_type": "markdown",
   "id": "dab44dd6",
   "metadata": {},
   "source": [
    "***"
   ]
  }
 ],
 "metadata": {
  "kernelspec": {
   "display_name": "Python 3 (ipykernel)",
   "language": "python",
   "name": "python3"
  },
  "language_info": {
   "codemirror_mode": {
    "name": "ipython",
    "version": 3
   },
   "file_extension": ".py",
   "mimetype": "text/x-python",
   "name": "python",
   "nbconvert_exporter": "python",
   "pygments_lexer": "ipython3",
   "version": "3.9.12"
  }
 },
 "nbformat": 4,
 "nbformat_minor": 5
}
