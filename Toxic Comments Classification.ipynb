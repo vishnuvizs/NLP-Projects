{
 "cells": [
  {
   "cell_type": "markdown",
   "id": "8bc60612",
   "metadata": {},
   "source": [
    "# <span style = \"color:green\"> Toxic Comments Classification </span>"
   ]
  },
  {
   "cell_type": "markdown",
   "id": "0d3aeb5c",
   "metadata": {},
   "source": [
    "***"
   ]
  },
  {
   "cell_type": "markdown",
   "id": "3b1d9fac",
   "metadata": {},
   "source": [
    "The importance of maintaining civility on an online forum cannot be overstated. Cyber bullying is defined as “willful and repeated harm inflicted through the medium of electronic text.” It involves sending degrading, threatening, and/or sexually explicit messages and images to targets via web sites, blogs, instant messaging, chat rooms, e-mail, cell phones, web sites and personal online profiles. As a result, detecting and deleting poisonous communication from public forums is a vital duty that is impossible for human moderators to do.\n",
    "\n",
    "\n",
    "Toxic comment categorization refers to the classification of several forms of toxic comments into one or more categories such as ‘toxic,’ ‘severe toxic,’ ‘obscene,’ ‘threat,’ ‘insult,’ and ‘identity hate.’ The topic is particularly intriguing because of the intense debates about how poisonous information on the internet has impacted society’s general health."
   ]
  },
  {
   "cell_type": "markdown",
   "id": "d7b73150",
   "metadata": {},
   "source": [
    "Find the dataset <a href = \"https://www.kaggle.com/datasets/fizzbuzz/cleaned-toxic-comments\">here</a>"
   ]
  },
  {
   "cell_type": "markdown",
   "id": "36050514",
   "metadata": {},
   "source": [
    "***"
   ]
  },
  {
   "cell_type": "markdown",
   "id": "92b290e5",
   "metadata": {},
   "source": [
    "### Import necessary Libraries"
   ]
  },
  {
   "cell_type": "code",
   "execution_count": 2,
   "id": "88bca38a",
   "metadata": {},
   "outputs": [],
   "source": [
    "import numpy as np\n",
    "import pandas as pd\n",
    "import matplotlib.pyplot as plt\n",
    "import seaborn as sns\n",
    "import re\n",
    "from sklearn.model_selection import train_test_split\n",
    "from nltk.corpus import stopwords\n",
    "from nltk.stem import WordNetLemmatizer\n",
    "from tensorflow.keras.preprocessing.text import Tokenizer\n",
    "from tensorflow.keras.preprocessing.sequence import pad_sequences\n",
    "from tensorflow.keras import Sequential\n",
    "from tensorflow.keras import layers\n",
    "from sklearn.metrics import accuracy_score, confusion_matrix, classification_report"
   ]
  },
  {
   "cell_type": "markdown",
   "id": "bcdfe9e9",
   "metadata": {},
   "source": [
    "### Read 'test.csv' dataset"
   ]
  },
  {
   "cell_type": "code",
   "execution_count": 3,
   "id": "3598a76e",
   "metadata": {},
   "outputs": [],
   "source": [
    "df= pd.read_csv('test.csv')"
   ]
  },
  {
   "cell_type": "markdown",
   "id": "fd5d62d5",
   "metadata": {},
   "source": [
    "#### Shuffle the entire dataset to mix labels"
   ]
  },
  {
   "cell_type": "code",
   "execution_count": 4,
   "id": "775ca1e6",
   "metadata": {},
   "outputs": [],
   "source": [
    "df = df.sample(frac = 1)[0:1000]"
   ]
  },
  {
   "cell_type": "code",
   "execution_count": 5,
   "id": "9acf9cdc",
   "metadata": {},
   "outputs": [],
   "source": [
    "df.reset_index(inplace = True)"
   ]
  },
  {
   "cell_type": "code",
   "execution_count": 6,
   "id": "3aae03b7",
   "metadata": {},
   "outputs": [
    {
     "data": {
      "text/html": [
       "<div>\n",
       "<style scoped>\n",
       "    .dataframe tbody tr th:only-of-type {\n",
       "        vertical-align: middle;\n",
       "    }\n",
       "\n",
       "    .dataframe tbody tr th {\n",
       "        vertical-align: top;\n",
       "    }\n",
       "\n",
       "    .dataframe thead th {\n",
       "        text-align: right;\n",
       "    }\n",
       "</style>\n",
       "<table border=\"1\" class=\"dataframe\">\n",
       "  <thead>\n",
       "    <tr style=\"text-align: right;\">\n",
       "      <th></th>\n",
       "      <th>index</th>\n",
       "      <th>comment_text</th>\n",
       "      <th>toxic</th>\n",
       "    </tr>\n",
       "  </thead>\n",
       "  <tbody>\n",
       "    <tr>\n",
       "      <th>0</th>\n",
       "      <td>15545</td>\n",
       "      <td>\"\\n\\nI understand the trepidation in including...</td>\n",
       "      <td>0</td>\n",
       "    </tr>\n",
       "    <tr>\n",
       "      <th>1</th>\n",
       "      <td>10343</td>\n",
       "      <td>Vandalism Warning \\n\\n Please stop. If you con...</td>\n",
       "      <td>0</td>\n",
       "    </tr>\n",
       "    <tr>\n",
       "      <th>2</th>\n",
       "      <td>10378</td>\n",
       "      <td>REDIRECT Talk:Mitsubishi A6M Zero</td>\n",
       "      <td>0</td>\n",
       "    </tr>\n",
       "    <tr>\n",
       "      <th>3</th>\n",
       "      <td>11116</td>\n",
       "      <td>\"\\n\\nThere is no dispute about quasar redshift...</td>\n",
       "      <td>0</td>\n",
       "    </tr>\n",
       "    <tr>\n",
       "      <th>4</th>\n",
       "      <td>14296</td>\n",
       "      <td>Thanks for the list guidelines (which are not ...</td>\n",
       "      <td>0</td>\n",
       "    </tr>\n",
       "  </tbody>\n",
       "</table>\n",
       "</div>"
      ],
      "text/plain": [
       "   index                                       comment_text  toxic\n",
       "0  15545  \"\\n\\nI understand the trepidation in including...      0\n",
       "1  10343  Vandalism Warning \\n\\n Please stop. If you con...      0\n",
       "2  10378                  REDIRECT Talk:Mitsubishi A6M Zero      0\n",
       "3  11116  \"\\n\\nThere is no dispute about quasar redshift...      0\n",
       "4  14296  Thanks for the list guidelines (which are not ...      0"
      ]
     },
     "execution_count": 6,
     "metadata": {},
     "output_type": "execute_result"
    }
   ],
   "source": [
    "df.head()"
   ]
  },
  {
   "cell_type": "markdown",
   "id": "cc46d896",
   "metadata": {},
   "source": [
    "### Check info of the dataset"
   ]
  },
  {
   "cell_type": "code",
   "execution_count": 7,
   "id": "813dd88a",
   "metadata": {},
   "outputs": [
    {
     "name": "stdout",
     "output_type": "stream",
     "text": [
      "<class 'pandas.core.frame.DataFrame'>\n",
      "RangeIndex: 1000 entries, 0 to 999\n",
      "Data columns (total 3 columns):\n",
      " #   Column        Non-Null Count  Dtype \n",
      "---  ------        --------------  ----- \n",
      " 0   index         1000 non-null   int64 \n",
      " 1   comment_text  1000 non-null   object\n",
      " 2   toxic         1000 non-null   int64 \n",
      "dtypes: int64(2), object(1)\n",
      "memory usage: 23.6+ KB\n"
     ]
    }
   ],
   "source": [
    "df.info()"
   ]
  },
  {
   "cell_type": "markdown",
   "id": "6104a122",
   "metadata": {},
   "source": [
    "### Check basic statistical information about the dataset"
   ]
  },
  {
   "cell_type": "code",
   "execution_count": 8,
   "id": "89658df9",
   "metadata": {
    "scrolled": true
   },
   "outputs": [
    {
     "data": {
      "text/html": [
       "<div>\n",
       "<style scoped>\n",
       "    .dataframe tbody tr th:only-of-type {\n",
       "        vertical-align: middle;\n",
       "    }\n",
       "\n",
       "    .dataframe tbody tr th {\n",
       "        vertical-align: top;\n",
       "    }\n",
       "\n",
       "    .dataframe thead th {\n",
       "        text-align: right;\n",
       "    }\n",
       "</style>\n",
       "<table border=\"1\" class=\"dataframe\">\n",
       "  <thead>\n",
       "    <tr style=\"text-align: right;\">\n",
       "      <th></th>\n",
       "      <th>index</th>\n",
       "      <th>toxic</th>\n",
       "    </tr>\n",
       "  </thead>\n",
       "  <tbody>\n",
       "    <tr>\n",
       "      <th>count</th>\n",
       "      <td>1000.000000</td>\n",
       "      <td>1000.000000</td>\n",
       "    </tr>\n",
       "    <tr>\n",
       "      <th>mean</th>\n",
       "      <td>9853.995000</td>\n",
       "      <td>0.514000</td>\n",
       "    </tr>\n",
       "    <tr>\n",
       "      <th>std</th>\n",
       "      <td>5754.413998</td>\n",
       "      <td>0.500054</td>\n",
       "    </tr>\n",
       "    <tr>\n",
       "      <th>min</th>\n",
       "      <td>12.000000</td>\n",
       "      <td>0.000000</td>\n",
       "    </tr>\n",
       "    <tr>\n",
       "      <th>25%</th>\n",
       "      <td>4860.000000</td>\n",
       "      <td>0.000000</td>\n",
       "    </tr>\n",
       "    <tr>\n",
       "      <th>50%</th>\n",
       "      <td>9688.000000</td>\n",
       "      <td>1.000000</td>\n",
       "    </tr>\n",
       "    <tr>\n",
       "      <th>75%</th>\n",
       "      <td>14626.750000</td>\n",
       "      <td>1.000000</td>\n",
       "    </tr>\n",
       "    <tr>\n",
       "      <th>max</th>\n",
       "      <td>19984.000000</td>\n",
       "      <td>1.000000</td>\n",
       "    </tr>\n",
       "  </tbody>\n",
       "</table>\n",
       "</div>"
      ],
      "text/plain": [
       "              index        toxic\n",
       "count   1000.000000  1000.000000\n",
       "mean    9853.995000     0.514000\n",
       "std     5754.413998     0.500054\n",
       "min       12.000000     0.000000\n",
       "25%     4860.000000     0.000000\n",
       "50%     9688.000000     1.000000\n",
       "75%    14626.750000     1.000000\n",
       "max    19984.000000     1.000000"
      ]
     },
     "execution_count": 8,
     "metadata": {},
     "output_type": "execute_result"
    }
   ],
   "source": [
    "df.describe()"
   ]
  },
  {
   "cell_type": "markdown",
   "id": "dea7b6c3",
   "metadata": {},
   "source": [
    "### Check for null values"
   ]
  },
  {
   "cell_type": "code",
   "execution_count": 9,
   "id": "41d426fa",
   "metadata": {},
   "outputs": [
    {
     "data": {
      "text/plain": [
       "index           0\n",
       "comment_text    0\n",
       "toxic           0\n",
       "dtype: int64"
      ]
     },
     "execution_count": 9,
     "metadata": {},
     "output_type": "execute_result"
    }
   ],
   "source": [
    "df.isna().sum()"
   ]
  },
  {
   "cell_type": "markdown",
   "id": "b31f56ca",
   "metadata": {},
   "source": [
    "### Check for duplicates, Drop if any"
   ]
  },
  {
   "cell_type": "code",
   "execution_count": 10,
   "id": "329a05cc",
   "metadata": {},
   "outputs": [
    {
     "data": {
      "text/plain": [
       "0"
      ]
     },
     "execution_count": 10,
     "metadata": {},
     "output_type": "execute_result"
    }
   ],
   "source": [
    "df.duplicated().sum()"
   ]
  },
  {
   "cell_type": "code",
   "execution_count": 11,
   "id": "3fd3b2e2",
   "metadata": {},
   "outputs": [],
   "source": [
    "df.drop_duplicates(keep = 'first', inplace = True)"
   ]
  },
  {
   "cell_type": "markdown",
   "id": "a51eecdb",
   "metadata": {},
   "source": [
    "### Plot a countplot of 'toxic'"
   ]
  },
  {
   "cell_type": "code",
   "execution_count": 12,
   "id": "984235a1",
   "metadata": {},
   "outputs": [
    {
     "data": {
      "image/png": "[encoded data removed]",
      "text/plain": [
       "<Figure size 432x288 with 1 Axes>"
      ]
     },
     "metadata": {
      "needs_background": "light"
     },
     "output_type": "display_data"
    }
   ],
   "source": [
    "sns.countplot(x= df['toxic'])\n",
    "plt.show()"
   ]
  },
  {
   "cell_type": "markdown",
   "id": "d2499948",
   "metadata": {},
   "source": [
    "### Create a function to with the following operations\n",
    "* Remove all special characters from text\n",
    "* Convert the text to lowercase\n",
    "* Lemmatize all the words\n",
    "* Remove any stopwords"
   ]
  },
  {
   "cell_type": "code",
   "execution_count": 13,
   "id": "9c4cfae0",
   "metadata": {},
   "outputs": [],
   "source": [
    "def preprocess(sentence):\n",
    "    text = re.sub(r\"[^a-zA-Z0-9]\",' ', sentence).split()\n",
    "    \n",
    "    text = [x.lower() for x in text if x not in stopwords.words('english')]\n",
    "    \n",
    "    lemma = WordNetLemmatizer()\n",
    "    text = [lemma.lemmatize(word,'v') for word in text]\n",
    "    \n",
    "    text = ' '.join(text)\n",
    "    return text"
   ]
  },
  {
   "cell_type": "markdown",
   "id": "154e01a7",
   "metadata": {},
   "source": [
    "### Apply the function on 'comment_text'"
   ]
  },
  {
   "cell_type": "code",
   "execution_count": 14,
   "id": "248fb1c8",
   "metadata": {},
   "outputs": [],
   "source": [
    "df['comment_text'] = df['comment_text'].apply(preprocess)"
   ]
  },
  {
   "cell_type": "code",
   "execution_count": 15,
   "id": "226d1056",
   "metadata": {},
   "outputs": [
    {
     "data": {
      "text/html": [
       "<div>\n",
       "<style scoped>\n",
       "    .dataframe tbody tr th:only-of-type {\n",
       "        vertical-align: middle;\n",
       "    }\n",
       "\n",
       "    .dataframe tbody tr th {\n",
       "        vertical-align: top;\n",
       "    }\n",
       "\n",
       "    .dataframe thead th {\n",
       "        text-align: right;\n",
       "    }\n",
       "</style>\n",
       "<table border=\"1\" class=\"dataframe\">\n",
       "  <thead>\n",
       "    <tr style=\"text-align: right;\">\n",
       "      <th></th>\n",
       "      <th>index</th>\n",
       "      <th>comment_text</th>\n",
       "      <th>toxic</th>\n",
       "    </tr>\n",
       "  </thead>\n",
       "  <tbody>\n",
       "    <tr>\n",
       "      <th>0</th>\n",
       "      <td>15545</td>\n",
       "      <td>i understand trepidation include review compar...</td>\n",
       "      <td>0</td>\n",
       "    </tr>\n",
       "    <tr>\n",
       "      <th>1</th>\n",
       "      <td>10343</td>\n",
       "      <td>vandalism warn please stop if continue blank d...</td>\n",
       "      <td>0</td>\n",
       "    </tr>\n",
       "    <tr>\n",
       "      <th>2</th>\n",
       "      <td>10378</td>\n",
       "      <td>redirect talk mitsubishi a6m zero</td>\n",
       "      <td>0</td>\n",
       "    </tr>\n",
       "    <tr>\n",
       "      <th>3</th>\n",
       "      <td>11116</td>\n",
       "      <td>there dispute quasar redshifts wolf effect use...</td>\n",
       "      <td>0</td>\n",
       "    </tr>\n",
       "    <tr>\n",
       "      <th>4</th>\n",
       "      <td>14296</td>\n",
       "      <td>thank list guidelines write stone now try expl...</td>\n",
       "      <td>0</td>\n",
       "    </tr>\n",
       "  </tbody>\n",
       "</table>\n",
       "</div>"
      ],
      "text/plain": [
       "   index                                       comment_text  toxic\n",
       "0  15545  i understand trepidation include review compar...      0\n",
       "1  10343  vandalism warn please stop if continue blank d...      0\n",
       "2  10378                  redirect talk mitsubishi a6m zero      0\n",
       "3  11116  there dispute quasar redshifts wolf effect use...      0\n",
       "4  14296  thank list guidelines write stone now try expl...      0"
      ]
     },
     "execution_count": 15,
     "metadata": {},
     "output_type": "execute_result"
    }
   ],
   "source": [
    "df.head()"
   ]
  },
  {
   "cell_type": "markdown",
   "id": "e9b49e5a",
   "metadata": {},
   "source": [
    "### Print a few of the texts after the preprocess"
   ]
  },
  {
   "cell_type": "code",
   "execution_count": 16,
   "id": "b494b438",
   "metadata": {},
   "outputs": [
    {
     "name": "stdout",
     "output_type": "stream",
     "text": [
      "i understand trepidation include review compare amos bush newsom yet do highlight amos skills beauty album the reviewer also call album compel aside comparisons i actually please compare amos two renowned artists respect admire amos also decide read page hear ms amos music i think sort comparisons help give reader idea kind artist e type music produce amos\n",
      "\n",
      "vandalism warn please stop if continue blank delete portion page content templates materials wikipedia plainwell mi may block edit you vandalize page blank entire section violate 3rr\n",
      "\n",
      "redirect talk mitsubishi a6m zero\n",
      "\n",
      "there dispute quasar redshifts wolf effect use suggest quasars might cosmological distance unless scienceapologist source verify statement what researchers wolf effect say last quote article note possibility correlation induce spectral shift may contribute shift observe spectra astronomical object quasars jam also write result demonstrate plausibility existence extra galactic object discordant redshifts due well establish physical phenomena it emphasize theory base entirely establish principles optics hypothetical new physics introduce furthermore certain aspects underlie phenomenon wolf effect test extensively laboratory\n",
      "\n",
      "thank list guidelines write stone now try explain disruption sysops may block ip address usernames disrupt normal function wikipedia pose kind threat such disruption may include limit change users sign comment make deliberately mislead edit harassment excessive personal attack insert material may defamatory users normally warn block sysops may also block new user account make lot disruptive edit reincarnations block disruptive users likely block particularly edit way suggest likely continue disruptive i violate have different opinion violation wikipedia policy ground continue violate official policy wikipedia harrassment have good day regard\n",
      "\n",
      "its delete so could let go\n",
      "\n",
      "yum 4 u\n",
      "\n",
      "lisa coward enabler\n",
      "\n",
      "timeline unblock request although i create article templates past participate various wikiprojects nowadays i tend restrict correct errors wikipedia mostly spell date format issue easy find fix remove polemic political article both enjoyable useful activities wikipedia article politics religion sex magnets pov warriors i liberal sex tolerant religion politics i know stuff i detest see article slant one way another pov warriors change useful resources propaganda i taxidriver twelve hour night shift time edit wikipedia limit however i recently begin take laptop squeeze bite wikiwork customers this usually amount minutes i often force close suddenly i move head rank this significant follow\n",
      "\n",
      "party hardy ms ambrose you look like jerk\n",
      "\n"
     ]
    }
   ],
   "source": [
    "for i in range(10):\n",
    "    print(df['comment_text'][i])\n",
    "    print()"
   ]
  },
  {
   "cell_type": "markdown",
   "id": "65c410f8",
   "metadata": {},
   "source": [
    "### Split the dataset into Input (X) & Target (y) variables"
   ]
  },
  {
   "cell_type": "code",
   "execution_count": 17,
   "id": "7adf43a7",
   "metadata": {},
   "outputs": [],
   "source": [
    "X = df['comment_text']\n",
    "y = df['toxic']"
   ]
  },
  {
   "cell_type": "markdown",
   "id": "b583a53b",
   "metadata": {},
   "source": [
    "### Split the dataset into Training and Testing set"
   ]
  },
  {
   "cell_type": "code",
   "execution_count": 18,
   "id": "f5314bee",
   "metadata": {},
   "outputs": [],
   "source": [
    "X_train, X_test, y_train, y_test = train_test_split(X, y, test_size= 0.2)"
   ]
  },
  {
   "cell_type": "markdown",
   "id": "68801e2d",
   "metadata": {},
   "source": [
    "### Convert all texts into vectors & Also add padding"
   ]
  },
  {
   "cell_type": "code",
   "execution_count": 19,
   "id": "b1d12645",
   "metadata": {},
   "outputs": [],
   "source": [
    "tokenizer = Tokenizer(num_words=5000)"
   ]
  },
  {
   "cell_type": "code",
   "execution_count": 20,
   "id": "c0b4d2c2",
   "metadata": {},
   "outputs": [],
   "source": [
    "tokenizer.fit_on_texts(X)"
   ]
  },
  {
   "cell_type": "code",
   "execution_count": 21,
   "id": "113f867e",
   "metadata": {},
   "outputs": [],
   "source": [
    "vocab_size = len(tokenizer.word_index) + 1"
   ]
  },
  {
   "cell_type": "code",
   "execution_count": 22,
   "id": "a5f5a92f",
   "metadata": {},
   "outputs": [],
   "source": [
    "def text_encoding(txt):\n",
    "    encoded_text = tokenizer.texts_to_sequences(txt)\n",
    "    \n",
    "    padded_sequence = pad_sequences(encoded_text,maxlen=120)\n",
    "    \n",
    "    return padded_sequence"
   ]
  },
  {
   "cell_type": "code",
   "execution_count": 23,
   "id": "c64f2887",
   "metadata": {},
   "outputs": [],
   "source": [
    "X_train = text_encoding(X_train)"
   ]
  },
  {
   "cell_type": "code",
   "execution_count": 24,
   "id": "a89f7222",
   "metadata": {},
   "outputs": [],
   "source": [
    "X_test = text_encoding(X_test)"
   ]
  },
  {
   "cell_type": "markdown",
   "id": "f6020657",
   "metadata": {},
   "source": [
    "### Create Keras Sequential Model. Add the following Layers\n",
    "* Embedding Layer\n",
    "* Bidirectional Layer with LSTM\n",
    "* GRU Layer\n",
    "* 1 Hidden layer\n",
    "* 1 Dropout Layer"
   ]
  },
  {
   "cell_type": "code",
   "execution_count": 25,
   "id": "f734f2a8",
   "metadata": {},
   "outputs": [],
   "source": [
    "model = Sequential()\n",
    "\n",
    "model.add(layers.Embedding(vocab_size, 128))\n",
    "model.add(layers.Bidirectional(layers.LSTM(128, return_sequences=True)))\n",
    "model.add(layers.GRU(128))\n",
    "model.add(layers.Dense(64, activation = 'relu'))\n",
    "model.add(layers.Dropout(0.1))\n",
    "model.add(layers.Dense(1, activation = 'sigmoid'))"
   ]
  },
  {
   "cell_type": "markdown",
   "id": "dbeeefbe",
   "metadata": {},
   "source": [
    "### Compile the model"
   ]
  },
  {
   "cell_type": "code",
   "execution_count": 86,
   "id": "6f70efcb",
   "metadata": {},
   "outputs": [],
   "source": [
    "model.compile(optimizer='adam',loss = 'binary_crossentropy', metrics = ['accuracy'])"
   ]
  },
  {
   "cell_type": "markdown",
   "id": "314fec8d",
   "metadata": {},
   "source": [
    "### Train the model.\n",
    "* Set epochs as 10\n",
    "* Add validation split"
   ]
  },
  {
   "cell_type": "code",
   "execution_count": 87,
   "id": "441db446",
   "metadata": {},
   "outputs": [
    {
     "name": "stdout",
     "output_type": "stream",
     "text": [
      "Epoch 1/10\n",
      "23/23 [==============================] - 10s 256ms/step - loss: 0.6686 - accuracy: 0.5861 - val_loss: 0.5932 - val_accuracy: 0.7125\n",
      "Epoch 2/10\n",
      "23/23 [==============================] - 5s 215ms/step - loss: 0.2438 - accuracy: 0.9125 - val_loss: 0.4094 - val_accuracy: 0.8250\n",
      "Epoch 3/10\n",
      "23/23 [==============================] - 5s 214ms/step - loss: 0.0565 - accuracy: 0.9875 - val_loss: 0.4361 - val_accuracy: 0.8500\n",
      "Epoch 4/10\n",
      "23/23 [==============================] - 5s 211ms/step - loss: 0.0227 - accuracy: 0.9931 - val_loss: 0.4433 - val_accuracy: 0.8500\n",
      "Epoch 5/10\n",
      "23/23 [==============================] - 5s 213ms/step - loss: 0.0075 - accuracy: 0.9972 - val_loss: 0.6569 - val_accuracy: 0.8375\n",
      "Epoch 6/10\n",
      "23/23 [==============================] - 5s 215ms/step - loss: 0.0117 - accuracy: 0.9986 - val_loss: 0.4711 - val_accuracy: 0.8500\n",
      "Epoch 7/10\n",
      "23/23 [==============================] - 5s 222ms/step - loss: 0.0065 - accuracy: 0.9986 - val_loss: 0.5091 - val_accuracy: 0.8625\n",
      "Epoch 8/10\n",
      "23/23 [==============================] - 5s 211ms/step - loss: 0.0080 - accuracy: 0.9986 - val_loss: 0.4350 - val_accuracy: 0.8625\n",
      "Epoch 9/10\n",
      "23/23 [==============================] - 5s 211ms/step - loss: 0.0081 - accuracy: 0.9972 - val_loss: 0.4146 - val_accuracy: 0.8625\n",
      "Epoch 10/10\n",
      "23/23 [==============================] - 5s 215ms/step - loss: 0.0072 - accuracy: 0.9972 - val_loss: 0.4217 - val_accuracy: 0.8625\n"
     ]
    },
    {
     "data": {
      "text/plain": [
       "<keras.callbacks.History at 0x2035c623cd0>"
      ]
     },
     "execution_count": 87,
     "metadata": {},
     "output_type": "execute_result"
    }
   ],
   "source": [
    "model.fit(X_train, y_train, epochs = 10, validation_split= 0.1)"
   ]
  },
  {
   "cell_type": "markdown",
   "id": "1d2a73b4",
   "metadata": {},
   "source": [
    "### Evaluate the model"
   ]
  },
  {
   "cell_type": "code",
   "execution_count": 88,
   "id": "8d174279",
   "metadata": {},
   "outputs": [
    {
     "name": "stdout",
     "output_type": "stream",
     "text": [
      "25/25 [==============================] - 3s 63ms/step - loss: 0.0453 - accuracy: 0.9850\n"
     ]
    },
    {
     "data": {
      "text/plain": [
       "[0.04530995711684227, 0.9850000143051147]"
      ]
     },
     "execution_count": 88,
     "metadata": {},
     "output_type": "execute_result"
    }
   ],
   "source": [
    "model.evaluate(X_train, y_train)"
   ]
  },
  {
   "cell_type": "markdown",
   "id": "3b26678b",
   "metadata": {},
   "source": [
    "### Make predictions with X_test"
   ]
  },
  {
   "cell_type": "code",
   "execution_count": 90,
   "id": "f829cddb",
   "metadata": {},
   "outputs": [],
   "source": [
    "y_pred = model.predict(X_test)"
   ]
  },
  {
   "cell_type": "code",
   "execution_count": 98,
   "id": "c9ae7ff2",
   "metadata": {},
   "outputs": [],
   "source": [
    "y_pred = [1 if x > 0.5 else 0 for x in y_pred]"
   ]
  },
  {
   "cell_type": "code",
   "execution_count": 100,
   "id": "20648535",
   "metadata": {},
   "outputs": [
    {
     "data": {
      "text/plain": [
       "[1,\n",
       " 1,\n",
       " 0,\n",
       " 1,\n",
       " 0,\n",
       " 1,\n",
       " 0,\n",
       " 0,\n",
       " 1,\n",
       " 1,\n",
       " 1,\n",
       " 1,\n",
       " 0,\n",
       " 1,\n",
       " 1,\n",
       " 0,\n",
       " 0,\n",
       " 1,\n",
       " 0,\n",
       " 0,\n",
       " 0,\n",
       " 0,\n",
       " 0,\n",
       " 0,\n",
       " 0,\n",
       " 1,\n",
       " 1,\n",
       " 1,\n",
       " 0,\n",
       " 0,\n",
       " 0,\n",
       " 0,\n",
       " 1,\n",
       " 0,\n",
       " 1,\n",
       " 0,\n",
       " 0,\n",
       " 0,\n",
       " 0,\n",
       " 0,\n",
       " 0,\n",
       " 1,\n",
       " 1,\n",
       " 0,\n",
       " 0,\n",
       " 1,\n",
       " 1,\n",
       " 1,\n",
       " 0,\n",
       " 0,\n",
       " 1,\n",
       " 0,\n",
       " 0,\n",
       " 1,\n",
       " 1,\n",
       " 1,\n",
       " 1,\n",
       " 1,\n",
       " 0,\n",
       " 1,\n",
       " 0,\n",
       " 1,\n",
       " 1,\n",
       " 0,\n",
       " 1,\n",
       " 1,\n",
       " 0,\n",
       " 0,\n",
       " 0,\n",
       " 1,\n",
       " 0,\n",
       " 0,\n",
       " 0,\n",
       " 0,\n",
       " 0,\n",
       " 1,\n",
       " 1,\n",
       " 1,\n",
       " 0,\n",
       " 1,\n",
       " 0,\n",
       " 0,\n",
       " 1,\n",
       " 1,\n",
       " 0,\n",
       " 0,\n",
       " 0,\n",
       " 1,\n",
       " 0,\n",
       " 1,\n",
       " 0,\n",
       " 0,\n",
       " 0,\n",
       " 0,\n",
       " 0,\n",
       " 0,\n",
       " 0,\n",
       " 0,\n",
       " 0,\n",
       " 1,\n",
       " 0,\n",
       " 0,\n",
       " 0,\n",
       " 0,\n",
       " 1,\n",
       " 1,\n",
       " 0,\n",
       " 0,\n",
       " 0,\n",
       " 0,\n",
       " 0,\n",
       " 1,\n",
       " 1,\n",
       " 1,\n",
       " 1,\n",
       " 0,\n",
       " 0,\n",
       " 0,\n",
       " 1,\n",
       " 0,\n",
       " 1,\n",
       " 1,\n",
       " 1,\n",
       " 0,\n",
       " 1,\n",
       " 0,\n",
       " 0,\n",
       " 0,\n",
       " 0,\n",
       " 0,\n",
       " 0,\n",
       " 0,\n",
       " 1,\n",
       " 1,\n",
       " 0,\n",
       " 1,\n",
       " 1,\n",
       " 0,\n",
       " 1,\n",
       " 0,\n",
       " 1,\n",
       " 0,\n",
       " 1,\n",
       " 0,\n",
       " 0,\n",
       " 0,\n",
       " 1,\n",
       " 0,\n",
       " 1,\n",
       " 0,\n",
       " 0,\n",
       " 0,\n",
       " 1,\n",
       " 0,\n",
       " 1,\n",
       " 0,\n",
       " 0,\n",
       " 0,\n",
       " 0,\n",
       " 1,\n",
       " 1,\n",
       " 1,\n",
       " 1,\n",
       " 1,\n",
       " 1,\n",
       " 1,\n",
       " 0,\n",
       " 1,\n",
       " 0,\n",
       " 0,\n",
       " 0,\n",
       " 1,\n",
       " 1,\n",
       " 1,\n",
       " 0,\n",
       " 1,\n",
       " 0,\n",
       " 1,\n",
       " 1,\n",
       " 0,\n",
       " 1,\n",
       " 0,\n",
       " 1,\n",
       " 1,\n",
       " 0,\n",
       " 1,\n",
       " 1,\n",
       " 0,\n",
       " 1,\n",
       " 0,\n",
       " 1,\n",
       " 0,\n",
       " 0,\n",
       " 0,\n",
       " 1,\n",
       " 0,\n",
       " 1,\n",
       " 0,\n",
       " 0,\n",
       " 0]"
      ]
     },
     "execution_count": 100,
     "metadata": {},
     "output_type": "execute_result"
    }
   ],
   "source": [
    "y_pred"
   ]
  },
  {
   "cell_type": "markdown",
   "id": "82f1dd6b",
   "metadata": {},
   "source": [
    "### Check accuracy of our prediction"
   ]
  },
  {
   "cell_type": "code",
   "execution_count": 103,
   "id": "a6407d24",
   "metadata": {},
   "outputs": [
    {
     "data": {
      "text/plain": [
       "0.795"
      ]
     },
     "execution_count": 103,
     "metadata": {},
     "output_type": "execute_result"
    }
   ],
   "source": [
    "accuracy_score(y_test, y_pred)"
   ]
  },
  {
   "cell_type": "markdown",
   "id": "272c0a79",
   "metadata": {},
   "source": [
    "### Plot confusion matrix on heatmap"
   ]
  },
  {
   "cell_type": "code",
   "execution_count": 107,
   "id": "4983aa8d",
   "metadata": {},
   "outputs": [
    {
     "data": {
      "image/png": "[encoded data removed]",
      "text/plain": [
       "<Figure size 432x288 with 2 Axes>"
      ]
     },
     "metadata": {
      "needs_background": "light"
     },
     "output_type": "display_data"
    }
   ],
   "source": [
    "sns.heatmap(confusion_matrix(y_test, y_pred), annot = True)\n",
    "plt.show()"
   ]
  },
  {
   "cell_type": "markdown",
   "id": "aec4abd7",
   "metadata": {},
   "source": [
    "### Print classification report"
   ]
  },
  {
   "cell_type": "code",
   "execution_count": 110,
   "id": "283832d4",
   "metadata": {},
   "outputs": [
    {
     "name": "stdout",
     "output_type": "stream",
     "text": [
      "              precision    recall  f1-score   support\n",
      "\n",
      "           0       0.75      0.87      0.81        98\n",
      "           1       0.85      0.73      0.78       102\n",
      "\n",
      "    accuracy                           0.80       200\n",
      "   macro avg       0.80      0.80      0.79       200\n",
      "weighted avg       0.80      0.80      0.79       200\n",
      "\n"
     ]
    }
   ],
   "source": [
    "print(classification_report(y_test,y_pred))"
   ]
  },
  {
   "cell_type": "markdown",
   "id": "4dd4df9d",
   "metadata": {},
   "source": [
    "***"
   ]
  }
 ],
 "metadata": {
  "kernelspec": {
   "display_name": "Python 3 (ipykernel)",
   "language": "python",
   "name": "python3"
  },
  "language_info": {
   "codemirror_mode": {
    "name": "ipython",
    "version": 3
   },
   "file_extension": ".py",
   "mimetype": "text/x-python",
   "name": "python",
   "nbconvert_exporter": "python",
   "pygments_lexer": "ipython3",
   "version": "3.9.12"
  }
 },
 "nbformat": 4,
 "nbformat_minor": 5
}
