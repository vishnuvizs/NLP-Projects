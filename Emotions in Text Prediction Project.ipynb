{
 "cells": [
  {
   "cell_type": "markdown",
   "id": "7c1d1c1b",
   "metadata": {},
   "source": [
    "# <span style = \"color:green\"> Emotions in Text Prediction with LSTM </span>"
   ]
  },
  {
   "cell_type": "markdown",
   "id": "80469a44",
   "metadata": {},
   "source": [
    "***"
   ]
  },
  {
   "cell_type": "markdown",
   "id": "8c19de3a",
   "metadata": {},
   "source": [
    "### Import Necessary Libraries"
   ]
  },
  {
   "cell_type": "code",
   "execution_count": 3,
   "id": "573a2bdf",
   "metadata": {},
   "outputs": [],
   "source": [
    "import numpy as np\n",
    "import pandas as pd\n",
    "import matplotlib.pyplot as plt\n",
    "import seaborn as sns\n",
    "from sklearn.model_selection import train_test_split\n",
    "from keras.preprocessing.text import Tokenizer\n",
    "from keras.preprocessing.sequence import pad_sequences\n",
    "import re\n",
    "from nltk.corpus import stopwords\n",
    "from nltk.stem import WordNetLemmatizer\n",
    "from sklearn.preprocessing import LabelBinarizer\n",
    "from keras import Sequential\n",
    "from keras import layers\n",
    "from sklearn.metrics import confusion_matrix, classification_report, accuracy_score"
   ]
  },
  {
   "cell_type": "markdown",
   "id": "3e52e02c",
   "metadata": {},
   "source": [
    "Download the dataset from this website: <a href = \"https://www.kaggle.com/datasets/ishantjuyal/emotions-in-text\"> Here </a>"
   ]
  },
  {
   "cell_type": "markdown",
   "id": "718dd4f9",
   "metadata": {},
   "source": [
    "### Read the dataset"
   ]
  },
  {
   "cell_type": "code",
   "execution_count": 4,
   "id": "0f82c9c5",
   "metadata": {},
   "outputs": [],
   "source": [
    "df = pd.read_csv('Emotion_final.csv')"
   ]
  },
  {
   "cell_type": "code",
   "execution_count": 5,
   "id": "464ff806",
   "metadata": {},
   "outputs": [
    {
     "data": {
      "text/html": [
       "<div>\n",
       "<style scoped>\n",
       "    .dataframe tbody tr th:only-of-type {\n",
       "        vertical-align: middle;\n",
       "    }\n",
       "\n",
       "    .dataframe tbody tr th {\n",
       "        vertical-align: top;\n",
       "    }\n",
       "\n",
       "    .dataframe thead th {\n",
       "        text-align: right;\n",
       "    }\n",
       "</style>\n",
       "<table border=\"1\" class=\"dataframe\">\n",
       "  <thead>\n",
       "    <tr style=\"text-align: right;\">\n",
       "      <th></th>\n",
       "      <th>Text</th>\n",
       "      <th>Emotion</th>\n",
       "    </tr>\n",
       "  </thead>\n",
       "  <tbody>\n",
       "    <tr>\n",
       "      <th>0</th>\n",
       "      <td>i didnt feel humiliated</td>\n",
       "      <td>sadness</td>\n",
       "    </tr>\n",
       "    <tr>\n",
       "      <th>1</th>\n",
       "      <td>i can go from feeling so hopeless to so damned...</td>\n",
       "      <td>sadness</td>\n",
       "    </tr>\n",
       "    <tr>\n",
       "      <th>2</th>\n",
       "      <td>im grabbing a minute to post i feel greedy wrong</td>\n",
       "      <td>anger</td>\n",
       "    </tr>\n",
       "    <tr>\n",
       "      <th>3</th>\n",
       "      <td>i am ever feeling nostalgic about the fireplac...</td>\n",
       "      <td>love</td>\n",
       "    </tr>\n",
       "    <tr>\n",
       "      <th>4</th>\n",
       "      <td>i am feeling grouchy</td>\n",
       "      <td>anger</td>\n",
       "    </tr>\n",
       "  </tbody>\n",
       "</table>\n",
       "</div>"
      ],
      "text/plain": [
       "                                                Text  Emotion\n",
       "0                            i didnt feel humiliated  sadness\n",
       "1  i can go from feeling so hopeless to so damned...  sadness\n",
       "2   im grabbing a minute to post i feel greedy wrong    anger\n",
       "3  i am ever feeling nostalgic about the fireplac...     love\n",
       "4                               i am feeling grouchy    anger"
      ]
     },
     "execution_count": 5,
     "metadata": {},
     "output_type": "execute_result"
    }
   ],
   "source": [
    "df.head()"
   ]
  },
  {
   "cell_type": "markdown",
   "id": "ce9f6d1b",
   "metadata": {},
   "source": [
    "### Print some of the texts along with its emotions"
   ]
  },
  {
   "cell_type": "code",
   "execution_count": 4,
   "id": "6e08cc28",
   "metadata": {},
   "outputs": [
    {
     "name": "stdout",
     "output_type": "stream",
     "text": [
      "i didnt feel humiliated - sadness\n",
      "\n",
      "i can go from feeling so hopeless to so damned hopeful just from being around someone who cares and is awake - sadness\n",
      "\n",
      "im grabbing a minute to post i feel greedy wrong - anger\n",
      "\n",
      "i am ever feeling nostalgic about the fireplace i will know that it is still on the property - love\n",
      "\n",
      "i am feeling grouchy - anger\n",
      "\n",
      "ive been feeling a little burdened lately wasnt sure why that was - sadness\n",
      "\n",
      "ive been taking or milligrams or times recommended amount and ive fallen asleep a lot faster but i also feel like so funny - surprise\n",
      "\n",
      "i feel as confused about life as a teenager or as jaded as a year old man - fear\n",
      "\n",
      "i have been with petronas for years i feel that petronas has performed well and made a huge profit - happy\n",
      "\n",
      "i feel romantic too - love\n",
      "\n"
     ]
    }
   ],
   "source": [
    "for i in range(10):\n",
    "    print(df['Text'][i],'-', df['Emotion'][i])\n",
    "    print()"
   ]
  },
  {
   "cell_type": "markdown",
   "id": "77fa2c91",
   "metadata": {},
   "source": [
    "### View info"
   ]
  },
  {
   "cell_type": "code",
   "execution_count": 5,
   "id": "6961f125",
   "metadata": {},
   "outputs": [
    {
     "name": "stdout",
     "output_type": "stream",
     "text": [
      "<class 'pandas.core.frame.DataFrame'>\n",
      "RangeIndex: 21459 entries, 0 to 21458\n",
      "Data columns (total 2 columns):\n",
      " #   Column   Non-Null Count  Dtype \n",
      "---  ------   --------------  ----- \n",
      " 0   Text     21459 non-null  object\n",
      " 1   Emotion  21459 non-null  object\n",
      "dtypes: object(2)\n",
      "memory usage: 335.4+ KB\n"
     ]
    }
   ],
   "source": [
    "df.info()"
   ]
  },
  {
   "cell_type": "markdown",
   "id": "7922e9ad",
   "metadata": {},
   "source": [
    "### View basic statistical information about the dataset"
   ]
  },
  {
   "cell_type": "code",
   "execution_count": 6,
   "id": "de993ce3",
   "metadata": {},
   "outputs": [
    {
     "data": {
      "text/html": [
       "<div>\n",
       "<style scoped>\n",
       "    .dataframe tbody tr th:only-of-type {\n",
       "        vertical-align: middle;\n",
       "    }\n",
       "\n",
       "    .dataframe tbody tr th {\n",
       "        vertical-align: top;\n",
       "    }\n",
       "\n",
       "    .dataframe thead th {\n",
       "        text-align: right;\n",
       "    }\n",
       "</style>\n",
       "<table border=\"1\" class=\"dataframe\">\n",
       "  <thead>\n",
       "    <tr style=\"text-align: right;\">\n",
       "      <th></th>\n",
       "      <th>Text</th>\n",
       "      <th>Emotion</th>\n",
       "    </tr>\n",
       "  </thead>\n",
       "  <tbody>\n",
       "    <tr>\n",
       "      <th>count</th>\n",
       "      <td>21459</td>\n",
       "      <td>21459</td>\n",
       "    </tr>\n",
       "    <tr>\n",
       "      <th>unique</th>\n",
       "      <td>21405</td>\n",
       "      <td>6</td>\n",
       "    </tr>\n",
       "    <tr>\n",
       "      <th>top</th>\n",
       "      <td>i feel so tortured by it</td>\n",
       "      <td>happy</td>\n",
       "    </tr>\n",
       "    <tr>\n",
       "      <th>freq</th>\n",
       "      <td>2</td>\n",
       "      <td>7029</td>\n",
       "    </tr>\n",
       "  </tbody>\n",
       "</table>\n",
       "</div>"
      ],
      "text/plain": [
       "                            Text Emotion\n",
       "count                      21459   21459\n",
       "unique                     21405       6\n",
       "top     i feel so tortured by it   happy\n",
       "freq                           2    7029"
      ]
     },
     "execution_count": 6,
     "metadata": {},
     "output_type": "execute_result"
    }
   ],
   "source": [
    "df.describe()"
   ]
  },
  {
   "cell_type": "markdown",
   "id": "d8f1e4f2",
   "metadata": {},
   "source": [
    "### Check for null values"
   ]
  },
  {
   "cell_type": "code",
   "execution_count": 7,
   "id": "e43b06d9",
   "metadata": {},
   "outputs": [
    {
     "data": {
      "text/plain": [
       "Text       0\n",
       "Emotion    0\n",
       "dtype: int64"
      ]
     },
     "execution_count": 7,
     "metadata": {},
     "output_type": "execute_result"
    }
   ],
   "source": [
    "df.isna().sum()"
   ]
  },
  {
   "cell_type": "markdown",
   "id": "8fc8d1a2",
   "metadata": {},
   "source": [
    "### Check for duplicated values"
   ]
  },
  {
   "cell_type": "code",
   "execution_count": 8,
   "id": "f2071340",
   "metadata": {},
   "outputs": [
    {
     "data": {
      "text/plain": [
       "3"
      ]
     },
     "execution_count": 8,
     "metadata": {},
     "output_type": "execute_result"
    }
   ],
   "source": [
    "df.duplicated().sum()"
   ]
  },
  {
   "cell_type": "code",
   "execution_count": 9,
   "id": "1d5e7930",
   "metadata": {},
   "outputs": [],
   "source": [
    "df.drop_duplicates(inplace= True, keep = 'first')"
   ]
  },
  {
   "cell_type": "markdown",
   "id": "a0a3980d",
   "metadata": {},
   "source": [
    "### Plot a countplot of 'Emotions'"
   ]
  },
  {
   "cell_type": "code",
   "execution_count": 10,
   "id": "6b88959d",
   "metadata": {},
   "outputs": [
    {
     "data": {
      "image/png": "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\n",
      "text/plain": [
       "<Figure size 720x432 with 1 Axes>"
      ]
     },
     "metadata": {
      "needs_background": "light"
     },
     "output_type": "display_data"
    }
   ],
   "source": [
    "plt.figure(figsize = (10,6))\n",
    "sns.countplot(y = df['Emotion'])\n",
    "plt.show()"
   ]
  },
  {
   "cell_type": "markdown",
   "id": "e40c455a",
   "metadata": {},
   "source": [
    "### Create a function to preprocess the text"
   ]
  },
  {
   "cell_type": "code",
   "execution_count": 5,
   "id": "306f76bd",
   "metadata": {},
   "outputs": [],
   "source": [
    "def preprocess(sentence):\n",
    "    #removes all the special characters and split the sentence at spaces\n",
    "    text = re.sub(r\"[^a-zA-Z0-9]\",\" \",sentence).split()\n",
    "    \n",
    "    # converts words to lowercase and removes any stopwords\n",
    "    words = [x.lower() for x in text if x not in stopwords.words('english')]\n",
    "    \n",
    "    # Lemmatize the words\n",
    "    lemma = WordNetLemmatizer()\n",
    "    word = [lemma.lemmatize(word,'v') for word in words ]\n",
    "    \n",
    "    # convert the list of words back into a sentence\n",
    "    word = ' '.join(word)\n",
    "    return word"
   ]
  },
  {
   "cell_type": "markdown",
   "id": "e9a5729b",
   "metadata": {},
   "source": [
    "### Apply the function on Text column"
   ]
  },
  {
   "cell_type": "code",
   "execution_count": 6,
   "id": "4feb54c6",
   "metadata": {},
   "outputs": [],
   "source": [
    "df['Text'] = df['Text'].apply(preprocess)"
   ]
  },
  {
   "cell_type": "markdown",
   "id": "aafe4f3c",
   "metadata": {},
   "source": [
    "### Print some of the texts after the preprocess"
   ]
  },
  {
   "cell_type": "code",
   "execution_count": 14,
   "id": "47cb5747",
   "metadata": {},
   "outputs": [
    {
     "name": "stdout",
     "output_type": "stream",
     "text": [
      "didnt feel humiliate\n",
      "\n",
      "go feel hopeless damn hopeful around someone care awake\n",
      "\n",
      "im grab minute post feel greedy wrong\n",
      "\n",
      "ever feel nostalgic fireplace know still property\n",
      "\n",
      "feel grouchy\n",
      "\n",
      "ive feel little burden lately wasnt sure\n",
      "\n",
      "ive take milligrams time recommend amount ive fall asleep lot faster also feel like funny\n",
      "\n",
      "feel confuse life teenager jade year old man\n",
      "\n",
      "petronas years feel petronas perform well make huge profit\n",
      "\n",
      "feel romantic\n",
      "\n"
     ]
    }
   ],
   "source": [
    "for i in range(10):\n",
    "    print(df['Text'][i])\n",
    "    print()"
   ]
  },
  {
   "cell_type": "markdown",
   "id": "fb9b751c",
   "metadata": {},
   "source": [
    "### Split the dataset into Input and Target Variables"
   ]
  },
  {
   "cell_type": "code",
   "execution_count": 16,
   "id": "cbfcd273",
   "metadata": {},
   "outputs": [],
   "source": [
    "X = df['Text']\n",
    "y = df['Emotion']"
   ]
  },
  {
   "cell_type": "markdown",
   "id": "d2aaeb33",
   "metadata": {},
   "source": [
    "### One Hot encode the Target variables"
   ]
  },
  {
   "cell_type": "code",
   "execution_count": 17,
   "id": "a7f739e8",
   "metadata": {},
   "outputs": [],
   "source": []
  },
  {
   "cell_type": "code",
   "execution_count": 18,
   "id": "53237a11",
   "metadata": {},
   "outputs": [],
   "source": [
    "encoder = LabelBinarizer()\n",
    "y = encoder.fit_transform(y)"
   ]
  },
  {
   "cell_type": "markdown",
   "id": "1d2212b8",
   "metadata": {},
   "source": [
    "### Check encoder classes"
   ]
  },
  {
   "cell_type": "code",
   "execution_count": 17,
   "id": "4c33bbcd",
   "metadata": {},
   "outputs": [
    {
     "data": {
      "text/plain": [
       "array(['anger', 'fear', 'happy', 'love', 'sadness', 'surprise'],\n",
       "      dtype='<U8')"
      ]
     },
     "execution_count": 17,
     "metadata": {},
     "output_type": "execute_result"
    }
   ],
   "source": [
    "labels = encoder.classes_\n",
    "labels"
   ]
  },
  {
   "cell_type": "markdown",
   "id": "aa1bcb6f",
   "metadata": {},
   "source": [
    "### Split the dataset into Training and Testing Set"
   ]
  },
  {
   "cell_type": "code",
   "execution_count": 19,
   "id": "e40bb17c",
   "metadata": {},
   "outputs": [],
   "source": [
    "X_train, X_test, y_train, y_test = train_test_split(X,y, test_size = 0.20)"
   ]
  },
  {
   "cell_type": "markdown",
   "id": "aa2af780",
   "metadata": {},
   "source": [
    "### Convert text to Sequence and add padding"
   ]
  },
  {
   "cell_type": "code",
   "execution_count": 28,
   "id": "96ac67bf",
   "metadata": {},
   "outputs": [],
   "source": [
    "tokenizer = Tokenizer(num_words=5000)"
   ]
  },
  {
   "cell_type": "markdown",
   "id": "06b7c142",
   "metadata": {},
   "source": [
    "#### \"fit_on_texts\" - This method creates the vocabulary index based on word frequency. Each word gets a unique id"
   ]
  },
  {
   "cell_type": "code",
   "execution_count": 29,
   "id": "277bb362",
   "metadata": {},
   "outputs": [],
   "source": [
    "tokenizer.fit_on_texts(X_train)"
   ]
  },
  {
   "cell_type": "code",
   "execution_count": 30,
   "id": "13639f89",
   "metadata": {},
   "outputs": [],
   "source": [
    "vocab_size = len(tokenizer.word_index) + 1"
   ]
  },
  {
   "cell_type": "code",
   "execution_count": 27,
   "id": "1c9a7ba7",
   "metadata": {},
   "outputs": [
    {
     "data": {
      "text/plain": [
       "<keras_preprocessing.text.Tokenizer at 0x291bb1f2b20>"
      ]
     },
     "execution_count": 27,
     "metadata": {},
     "output_type": "execute_result"
    }
   ],
   "source": [
    "tokenizer"
   ]
  },
  {
   "cell_type": "code",
   "execution_count": 31,
   "id": "30d310f1",
   "metadata": {},
   "outputs": [],
   "source": [
    "def text_encoding(txt):\n",
    "    # texts_to_sequences Transforms each text in texts to a sequence of integers.\n",
    "    encoded_docs = tokenizer.texts_to_sequences(txt)\n",
    "    \n",
    "    # pad_sequences is used to ensure that all sequences in a list have the same length.\n",
    "    padded_sequence = pad_sequences(encoded_docs, maxlen=128)    \n",
    "       \n",
    "    return padded_sequence"
   ]
  },
  {
   "cell_type": "markdown",
   "id": "f3543e1a",
   "metadata": {},
   "source": [
    "### Apply the function on both Training and Testing set"
   ]
  },
  {
   "cell_type": "code",
   "execution_count": 32,
   "id": "55953ffc",
   "metadata": {},
   "outputs": [],
   "source": [
    "X_train = text_encoding(X_train)\n",
    "X_test = text_encoding(X_test)"
   ]
  },
  {
   "cell_type": "markdown",
   "id": "27b8ba88",
   "metadata": {},
   "source": [
    "### Create a keras Sequential model with LSTM Layers"
   ]
  },
  {
   "cell_type": "code",
   "execution_count": 33,
   "id": "f39f605f",
   "metadata": {},
   "outputs": [
    {
     "data": {
      "text/plain": [
       "13841"
      ]
     },
     "execution_count": 33,
     "metadata": {},
     "output_type": "execute_result"
    }
   ],
   "source": [
    "vocab_size"
   ]
  },
  {
   "cell_type": "markdown",
   "id": "09fc1f5c",
   "metadata": {},
   "source": [
    "### Embedding layer:\n",
    " * Vocab size: Number of unique words in our training set\n",
    " * Second argument (In this case \"128\" is the size of each embedding vectors"
   ]
  },
  {
   "cell_type": "code",
   "execution_count": 35,
   "id": "b78da58f",
   "metadata": {},
   "outputs": [],
   "source": [
    "model = Sequential()\n",
    "### Embedding layer\n",
    "model.add(layers.Embedding(vocab_size, 128))\n",
    "\n",
    "### Lstm layer\n",
    "### return_sequences: Whether to return the last output in the output sequence, or the full sequence.\n",
    "model.add(layers.LSTM(128,  return_sequences=True))\n",
    "model.add(layers.Dropout(0.2))\n",
    "model.add(layers.LSTM(128))\n",
    "model.add(layers.Dense(64, activation = 'relu'))\n",
    "model.add(layers.Dropout(0.2))\n",
    "\n",
    "model.add(layers.Dense(6, activation='softmax'))"
   ]
  },
  {
   "cell_type": "code",
   "execution_count": 36,
   "id": "14db4ce9",
   "metadata": {},
   "outputs": [
    {
     "name": "stdout",
     "output_type": "stream",
     "text": [
      "Model: \"sequential\"\n",
      "_________________________________________________________________\n",
      " Layer (type)                Output Shape              Param #   \n",
      "=================================================================\n",
      " embedding (Embedding)       (None, None, 128)         1771648   \n",
      "                                                                 \n",
      " lstm (LSTM)                 (None, None, 128)         131584    \n",
      "                                                                 \n",
      " dropout (Dropout)           (None, None, 128)         0         \n",
      "                                                                 \n",
      " lstm_1 (LSTM)               (None, 128)               131584    \n",
      "                                                                 \n",
      " dense (Dense)               (None, 64)                8256      \n",
      "                                                                 \n",
      " dropout_1 (Dropout)         (None, 64)                0         \n",
      "                                                                 \n",
      " dense_1 (Dense)             (None, 6)                 390       \n",
      "                                                                 \n",
      "=================================================================\n",
      "Total params: 2,043,462\n",
      "Trainable params: 2,043,462\n",
      "Non-trainable params: 0\n",
      "_________________________________________________________________\n"
     ]
    }
   ],
   "source": [
    "model.summary()"
   ]
  },
  {
   "cell_type": "markdown",
   "id": "fd99ef01",
   "metadata": {},
   "source": [
    "### Compile the model"
   ]
  },
  {
   "cell_type": "code",
   "execution_count": 37,
   "id": "fe5d25fb",
   "metadata": {},
   "outputs": [],
   "source": [
    "model.compile(loss = 'categorical_crossentropy', optimizer = 'adam', metrics = ['accuracy'])"
   ]
  },
  {
   "cell_type": "markdown",
   "id": "4f126af1",
   "metadata": {},
   "source": [
    "### Train the model"
   ]
  },
  {
   "cell_type": "code",
   "execution_count": 38,
   "id": "a60bfa76",
   "metadata": {},
   "outputs": [
    {
     "name": "stdout",
     "output_type": "stream",
     "text": [
      "Epoch 1/10\n",
      "430/430 [==============================] - 79s 177ms/step - loss: 1.2191 - accuracy: 0.5321 - val_loss: 0.6777 - val_accuracy: 0.7606\n",
      "Epoch 2/10\n",
      "430/430 [==============================] - 70s 163ms/step - loss: 0.3769 - accuracy: 0.8719 - val_loss: 0.3241 - val_accuracy: 0.8923\n",
      "Epoch 3/10\n",
      "430/430 [==============================] - 70s 164ms/step - loss: 0.1768 - accuracy: 0.9380 - val_loss: 0.2456 - val_accuracy: 0.9126\n",
      "Epoch 4/10\n",
      "430/430 [==============================] - 70s 163ms/step - loss: 0.1192 - accuracy: 0.9550 - val_loss: 0.2577 - val_accuracy: 0.9089\n",
      "Epoch 5/10\n",
      "430/430 [==============================] - 70s 163ms/step - loss: 0.0955 - accuracy: 0.9645 - val_loss: 0.3242 - val_accuracy: 0.8992\n",
      "Epoch 6/10\n",
      "430/430 [==============================] - 70s 163ms/step - loss: 0.0786 - accuracy: 0.9714 - val_loss: 0.3455 - val_accuracy: 0.9056\n",
      "Epoch 7/10\n",
      "430/430 [==============================] - 70s 164ms/step - loss: 0.0590 - accuracy: 0.9790 - val_loss: 0.3620 - val_accuracy: 0.9051\n",
      "Epoch 8/10\n",
      "430/430 [==============================] - 70s 164ms/step - loss: 0.0545 - accuracy: 0.9801 - val_loss: 0.3768 - val_accuracy: 0.9024\n",
      "Epoch 9/10\n",
      "430/430 [==============================] - 70s 164ms/step - loss: 0.0430 - accuracy: 0.9846 - val_loss: 0.4337 - val_accuracy: 0.9027\n",
      "Epoch 10/10\n",
      "430/430 [==============================] - 71s 164ms/step - loss: 0.0440 - accuracy: 0.9835 - val_loss: 0.4532 - val_accuracy: 0.8981\n"
     ]
    },
    {
     "data": {
      "text/plain": [
       "<keras.callbacks.History at 0x291bcf971c0>"
      ]
     },
     "execution_count": 38,
     "metadata": {},
     "output_type": "execute_result"
    }
   ],
   "source": [
    "model.fit(X_train, y_train, epochs=10, validation_split = 0.2)"
   ]
  },
  {
   "cell_type": "markdown",
   "id": "805ea9f3",
   "metadata": {},
   "source": [
    "### Make Prediction with X_test"
   ]
  },
  {
   "cell_type": "code",
   "execution_count": 39,
   "id": "eb71ece9",
   "metadata": {},
   "outputs": [],
   "source": [
    "y_pred = model.predict(X_test)"
   ]
  },
  {
   "cell_type": "code",
   "execution_count": 44,
   "id": "f620337a",
   "metadata": {},
   "outputs": [],
   "source": [
    "y_pred = [np.argmax(i) for i in y_pred]"
   ]
  },
  {
   "cell_type": "code",
   "execution_count": 48,
   "id": "2ce32bc3",
   "metadata": {},
   "outputs": [
    {
     "data": {
      "text/plain": [
       "4292"
      ]
     },
     "execution_count": 48,
     "metadata": {},
     "output_type": "execute_result"
    }
   ],
   "source": [
    "len(y_pred)"
   ]
  },
  {
   "cell_type": "code",
   "execution_count": 49,
   "id": "1db332a7",
   "metadata": {},
   "outputs": [
    {
     "data": {
      "text/plain": [
       "4292"
      ]
     },
     "execution_count": 49,
     "metadata": {},
     "output_type": "execute_result"
    }
   ],
   "source": [
    "len(y_test)"
   ]
  },
  {
   "cell_type": "code",
   "execution_count": 52,
   "id": "b787677d",
   "metadata": {},
   "outputs": [],
   "source": [
    "y_test = [np.argmax(i) for i in y_test]"
   ]
  },
  {
   "cell_type": "markdown",
   "id": "3c3f8cd7",
   "metadata": {},
   "source": [
    "### Model Evaluation"
   ]
  },
  {
   "cell_type": "markdown",
   "id": "8d7fbe89",
   "metadata": {},
   "source": [
    "#### Accuracy score"
   ]
  },
  {
   "cell_type": "code",
   "execution_count": 54,
   "id": "ab6f1ad8",
   "metadata": {
    "scrolled": true
   },
   "outputs": [
    {
     "data": {
      "text/plain": [
       "0.8923578751164958"
      ]
     },
     "execution_count": 54,
     "metadata": {},
     "output_type": "execute_result"
    }
   ],
   "source": [
    "accuracy_score(y_test, y_pred)"
   ]
  },
  {
   "cell_type": "markdown",
   "id": "df1c5f00",
   "metadata": {},
   "source": [
    "### Confusion Matrix"
   ]
  },
  {
   "cell_type": "code",
   "execution_count": 64,
   "id": "c3a1998d",
   "metadata": {},
   "outputs": [
    {
     "data": {
      "image/png": "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\n",
      "text/plain": [
       "<Figure size 720x576 with 2 Axes>"
      ]
     },
     "metadata": {
      "needs_background": "light"
     },
     "output_type": "display_data"
    }
   ],
   "source": [
    "plt.figure(figsize = (10,8))\n",
    "sns.heatmap(confusion_matrix(y_test, y_pred), annot = True, fmt = 'd')\n",
    "plt.show()"
   ]
  },
  {
   "cell_type": "markdown",
   "id": "5c7e5511",
   "metadata": {},
   "source": [
    "### Classification report"
   ]
  },
  {
   "cell_type": "code",
   "execution_count": 65,
   "id": "65e7abb5",
   "metadata": {},
   "outputs": [
    {
     "name": "stdout",
     "output_type": "stream",
     "text": [
      "              precision    recall  f1-score   support\n",
      "\n",
      "           0       0.87      0.89      0.88       616\n",
      "           1       0.83      0.90      0.86       533\n",
      "           2       0.90      0.94      0.92      1385\n",
      "           3       0.84      0.65      0.73       314\n",
      "           4       0.95      0.93      0.94      1257\n",
      "           5       0.77      0.69      0.73       187\n",
      "\n",
      "    accuracy                           0.89      4292\n",
      "   macro avg       0.86      0.83      0.84      4292\n",
      "weighted avg       0.89      0.89      0.89      4292\n",
      "\n"
     ]
    }
   ],
   "source": [
    "print(classification_report(y_test, y_pred))"
   ]
  },
  {
   "cell_type": "code",
   "execution_count": 72,
   "id": "597bca4e",
   "metadata": {},
   "outputs": [],
   "source": [
    "labels = dict(enumerate(encoder.classes_))"
   ]
  },
  {
   "cell_type": "code",
   "execution_count": 88,
   "id": "f4878dda",
   "metadata": {},
   "outputs": [
    {
     "data": {
      "text/plain": [
       "{0: 'anger', 1: 'fear', 2: 'happy', 3: 'love', 4: 'sadness', 5: 'surprise'}"
      ]
     },
     "execution_count": 88,
     "metadata": {},
     "output_type": "execute_result"
    }
   ],
   "source": [
    "labels"
   ]
  },
  {
   "cell_type": "code",
   "execution_count": 68,
   "id": "1a02dcb2",
   "metadata": {},
   "outputs": [],
   "source": [
    "test = text_encoding(['This is a test sentence'])"
   ]
  },
  {
   "cell_type": "code",
   "execution_count": 78,
   "id": "9489693f",
   "metadata": {},
   "outputs": [],
   "source": [
    "result = model.predict([test])"
   ]
  },
  {
   "cell_type": "code",
   "execution_count": null,
   "id": "f7192485",
   "metadata": {},
   "outputs": [],
   "source": [
    "result = np.argmax(model.predi)"
   ]
  },
  {
   "cell_type": "code",
   "execution_count": 77,
   "id": "902a9de0",
   "metadata": {},
   "outputs": [
    {
     "data": {
      "text/plain": [
       "'fear'"
      ]
     },
     "execution_count": 77,
     "metadata": {},
     "output_type": "execute_result"
    }
   ],
   "source": [
    "labels[np.argmax(model.predict([test]))]"
   ]
  },
  {
   "cell_type": "markdown",
   "id": "bf37dd11",
   "metadata": {},
   "source": [
    "### Create a function that inputs text and outputs the prediction"
   ]
  },
  {
   "cell_type": "code",
   "execution_count": 81,
   "id": "c3d99ec6",
   "metadata": {},
   "outputs": [],
   "source": [
    "def prediction(text):\n",
    "    sequence = text_encoding([text])\n",
    "    pred = model.predict([sequence])\n",
    "    pred = np.argmax(pred)\n",
    "    pred = labels[pred]\n",
    "    return pred"
   ]
  },
  {
   "cell_type": "code",
   "execution_count": 87,
   "id": "97167550",
   "metadata": {},
   "outputs": [
    {
     "data": {
      "text/plain": [
       "'happy'"
      ]
     },
     "execution_count": 87,
     "metadata": {},
     "output_type": "execute_result"
    }
   ],
   "source": [
    "prediction('I am a very happy person')"
   ]
  },
  {
   "cell_type": "markdown",
   "id": "c60e8d44",
   "metadata": {},
   "source": [
    "***"
   ]
  },
 ],
 "metadata": {
  "kernelspec": {
   "display_name": "Python 3 (ipykernel)",
   "language": "python",
   "name": "python3"
  },
  "language_info": {
   "codemirror_mode": {
    "name": "ipython",
    "version": 3
   },
   "file_extension": ".py",
   "mimetype": "text/x-python",
   "name": "python",
   "nbconvert_exporter": "python",
   "pygments_lexer": "ipython3",
   "version": "3.9.12"
  }
 },
 "nbformat": 4,
 "nbformat_minor": 5
}
