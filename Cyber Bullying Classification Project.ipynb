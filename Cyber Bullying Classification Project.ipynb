{
 "cells": [
  {
   "cell_type": "markdown",
   "id": "c8e80509",
   "metadata": {},
   "source": [
    "# <span style = \"color:coral\">Cyber Bullying Classification</span>"
   ]
  },
  {
   "cell_type": "markdown",
   "id": "4740d5e7",
   "metadata": {},
   "source": [
    "***"
   ]
  },
  {
   "cell_type": "markdown",
   "id": "fe654696",
   "metadata": {},
   "source": [
    "Cyberbullying is bullying with the use of digital technologies. It can take place on social media, messaging platforms, gaming platforms and mobile phones. It is repeated behaviour, aimed at scaring, angering or shaming those who are targeted.\n",
    "\n",
    "Face-to-face bullying and cyberbullying can often happen alongside each other. But cyberbullying leaves a digital footprint – a record that can prove useful and provide evidence to help stop the abuse."
   ]
  },
  {
   "cell_type": "markdown",
   "id": "85093924",
   "metadata": {},
   "source": [
    "***"
   ]
  },
  {
   "cell_type": "markdown",
   "id": "2b66ba67",
   "metadata": {},
   "source": [
    "### Import necessary Libraries"
   ]
  },
  {
   "cell_type": "code",
   "execution_count": 163,
   "id": "1eed1e04",
   "metadata": {},
   "outputs": [],
   "source": [
    "import numpy as np\n",
    "import pandas as pd\n",
    "import matplotlib.pyplot as plt\n",
    "import seaborn as sns\n",
    "import re\n",
    "from nltk.corpus import stopwords\n",
    "from nltk.stem import WordNetLemmatizer\n",
    "from sklearn.preprocessing import LabelBinarizer\n",
    "from tensorflow.keras.preprocessing.text import Tokenizer\n",
    "from tensorflow.keras.preprocessing.sequence import pad_sequences\n",
    "from tensorflow.keras import Sequential\n",
    "from tensorflow.keras import layers\n",
    "from sklearn.model_selection import train_test_split\n",
    "from sklearn.metrics import accuracy_score, confusion_matrix, classification_report"
   ]
  },
  {
   "cell_type": "markdown",
   "id": "6db3456f",
   "metadata": {},
   "source": [
    "Find the dataset <a href = \"https://www.kaggle.com/datasets/andrewmvd/cyberbullying-classification\">here </a>"
   ]
  },
  {
   "cell_type": "markdown",
   "id": "4a8160dc",
   "metadata": {},
   "source": [
    "### Read 'cyberbullying_tweets.csv'"
   ]
  },
  {
   "cell_type": "code",
   "execution_count": 58,
   "id": "12d9b596",
   "metadata": {},
   "outputs": [],
   "source": [
    "df = pd.read_csv('cyberbullying_tweets.csv')"
   ]
  },
  {
   "cell_type": "code",
   "execution_count": 59,
   "id": "196eafe4",
   "metadata": {},
   "outputs": [
    {
     "data": {
      "text/html": [
       "<div>\n",
       "<style scoped>\n",
       "    .dataframe tbody tr th:only-of-type {\n",
       "        vertical-align: middle;\n",
       "    }\n",
       "\n",
       "    .dataframe tbody tr th {\n",
       "        vertical-align: top;\n",
       "    }\n",
       "\n",
       "    .dataframe thead th {\n",
       "        text-align: right;\n",
       "    }\n",
       "</style>\n",
       "<table border=\"1\" class=\"dataframe\">\n",
       "  <thead>\n",
       "    <tr style=\"text-align: right;\">\n",
       "      <th></th>\n",
       "      <th>tweet_text</th>\n",
       "      <th>cyberbullying_type</th>\n",
       "    </tr>\n",
       "  </thead>\n",
       "  <tbody>\n",
       "    <tr>\n",
       "      <th>0</th>\n",
       "      <td>In other words #katandandre, your food was cra...</td>\n",
       "      <td>not_cyberbullying</td>\n",
       "    </tr>\n",
       "    <tr>\n",
       "      <th>1</th>\n",
       "      <td>Why is #aussietv so white? #MKR #theblock #ImA...</td>\n",
       "      <td>not_cyberbullying</td>\n",
       "    </tr>\n",
       "    <tr>\n",
       "      <th>2</th>\n",
       "      <td>@XochitlSuckkks a classy whore? Or more red ve...</td>\n",
       "      <td>not_cyberbullying</td>\n",
       "    </tr>\n",
       "    <tr>\n",
       "      <th>3</th>\n",
       "      <td>@Jason_Gio meh. :P  thanks for the heads up, b...</td>\n",
       "      <td>not_cyberbullying</td>\n",
       "    </tr>\n",
       "    <tr>\n",
       "      <th>4</th>\n",
       "      <td>@RudhoeEnglish This is an ISIS account pretend...</td>\n",
       "      <td>not_cyberbullying</td>\n",
       "    </tr>\n",
       "  </tbody>\n",
       "</table>\n",
       "</div>"
      ],
      "text/plain": [
       "                                          tweet_text cyberbullying_type\n",
       "0  In other words #katandandre, your food was cra...  not_cyberbullying\n",
       "1  Why is #aussietv so white? #MKR #theblock #ImA...  not_cyberbullying\n",
       "2  @XochitlSuckkks a classy whore? Or more red ve...  not_cyberbullying\n",
       "3  @Jason_Gio meh. :P  thanks for the heads up, b...  not_cyberbullying\n",
       "4  @RudhoeEnglish This is an ISIS account pretend...  not_cyberbullying"
      ]
     },
     "execution_count": 59,
     "metadata": {},
     "output_type": "execute_result"
    }
   ],
   "source": [
    "df.head()"
   ]
  },
  {
   "cell_type": "markdown",
   "id": "8bf18d31",
   "metadata": {},
   "source": [
    "### Check info of the dataset"
   ]
  },
  {
   "cell_type": "code",
   "execution_count": 60,
   "id": "7f577654",
   "metadata": {},
   "outputs": [
    {
     "name": "stdout",
     "output_type": "stream",
     "text": [
      "<class 'pandas.core.frame.DataFrame'>\n",
      "RangeIndex: 47692 entries, 0 to 47691\n",
      "Data columns (total 2 columns):\n",
      " #   Column              Non-Null Count  Dtype \n",
      "---  ------              --------------  ----- \n",
      " 0   tweet_text          47692 non-null  object\n",
      " 1   cyberbullying_type  47692 non-null  object\n",
      "dtypes: object(2)\n",
      "memory usage: 745.3+ KB\n"
     ]
    }
   ],
   "source": [
    "df.info()"
   ]
  },
  {
   "cell_type": "markdown",
   "id": "585a2919",
   "metadata": {},
   "source": [
    "### Shufle the dataset and reset the index(also drop the old index)"
   ]
  },
  {
   "cell_type": "code",
   "execution_count": 62,
   "id": "a9b0b582",
   "metadata": {},
   "outputs": [],
   "source": [
    "df = df.sample(frac=1)"
   ]
  },
  {
   "cell_type": "code",
   "execution_count": 63,
   "id": "2c15e727",
   "metadata": {},
   "outputs": [],
   "source": [
    "df.reset_index(inplace = True,drop=True)"
   ]
  },
  {
   "cell_type": "code",
   "execution_count": 64,
   "id": "237da8d7",
   "metadata": {},
   "outputs": [],
   "source": [
    "df = df[0:1000]"
   ]
  },
  {
   "cell_type": "markdown",
   "id": "a61afebd",
   "metadata": {},
   "source": [
    "### Check the unique values in 'cyberbullying_type'"
   ]
  },
  {
   "cell_type": "code",
   "execution_count": 72,
   "id": "c15e62f5",
   "metadata": {},
   "outputs": [
    {
     "data": {
      "text/plain": [
       "array(['ethnicity', 'not_cyberbullying', 'age', 'religion',\n",
       "       'other_cyberbullying', 'gender'], dtype=object)"
      ]
     },
     "execution_count": 72,
     "metadata": {},
     "output_type": "execute_result"
    }
   ],
   "source": [
    "df['cyberbullying_type'].unique()"
   ]
  },
  {
   "cell_type": "markdown",
   "id": "55f44499",
   "metadata": {},
   "source": [
    "### Print few of the texts in 'tweet_text'"
   ]
  },
  {
   "cell_type": "code",
   "execution_count": 66,
   "id": "eddbcc0f",
   "metadata": {},
   "outputs": [
    {
     "name": "stdout",
     "output_type": "stream",
     "text": [
      "Y’all see all these niggers trying to justify celebrating a WHITE holiday to me like I’m somebody y’all ancestors were in chains July 4th, 1776 but y’all keep on. I DONT GIVE A FUCK WHAT YOU DO WITH YOUR TIME dumb asses..pop all the fireworks and eat all the bbq clowns ------ ethnicity\n",
      "\n",
      "@Spacekatgal @danielpunkass hehehe. \"at this level\" ------ not_cyberbullying\n",
      "\n",
      "anyways, fuck secondary school, especially my first 2 years were fucking hell. and my classmates, at least 60% of them were some of the most trashy people ever, unsympathetic, 0 empathy, borderline bullies. gross as FUCKKKK ------ age\n",
      "\n",
      "Ok from your response I gather you see things as non systemic. That killer cop wasn't just a lone actor, he was a part of a system. The Muslims you claim had 600 (questionable buy ill let it pass) killings are political terrorists. People don't self radicalize. They are pushed ------ religion\n",
      "\n",
      "Pop quiz for the brainwashed kaum, Name 5 hindu celebrities from Pakistan, and name 5 muslim celebrities from India. You are raised believing lies, its hard for you to accept. How many Hindu boys you went school with? What is % of Hindu in Pak. Don't be a idiot forever. ------ religion\n",
      "\n",
      "To reiterate, GamerGate is threatening @ChrisWarcraft's children, and @Grummz is totally OK with this, because free speech. ------ other_cyberbullying\n",
      "\n",
      "@DevNullSA 1 bedroom apartment. ------ other_cyberbullying\n",
      "\n",
      "True. I miss the days when all I ever have to worry about is passing my tests & quizzes. Adulting is a whole new level of school, with harder tasks to perform without fail, and with occational meaner bullies along the way @BTS_twt ------ age\n",
      "\n",
      "I wouldn't be the son that I am Without a father who showed me I can Face all the bullies at school You taught me how to keep my cool I wouldn't be who I am ------ age\n",
      "\n",
      "thank you so much yan!!! i hope youll have good days from now on too!!! im so glad i met u!! ur like one of the first oisuga friends i met ever since i came back to this acc!! every interaction with u is very fun!!! im lov u very much!!! ------ ethnicity\n",
      "\n"
     ]
    }
   ],
   "source": [
    "for i in range(10):\n",
    "    print(df['tweet_text'][i],'------',df['cyberbullying_type'][i])\n",
    "    print()"
   ]
  },
  {
   "cell_type": "markdown",
   "id": "663f8a2c",
   "metadata": {},
   "source": [
    "### Check basic statistical information about the dataset with .describe method"
   ]
  },
  {
   "cell_type": "code",
   "execution_count": 73,
   "id": "d8299e15",
   "metadata": {},
   "outputs": [
    {
     "data": {
      "text/html": [
       "<div>\n",
       "<style scoped>\n",
       "    .dataframe tbody tr th:only-of-type {\n",
       "        vertical-align: middle;\n",
       "    }\n",
       "\n",
       "    .dataframe tbody tr th {\n",
       "        vertical-align: top;\n",
       "    }\n",
       "\n",
       "    .dataframe thead th {\n",
       "        text-align: right;\n",
       "    }\n",
       "</style>\n",
       "<table border=\"1\" class=\"dataframe\">\n",
       "  <thead>\n",
       "    <tr style=\"text-align: right;\">\n",
       "      <th></th>\n",
       "      <th>tweet_text</th>\n",
       "      <th>cyberbullying_type</th>\n",
       "    </tr>\n",
       "  </thead>\n",
       "  <tbody>\n",
       "    <tr>\n",
       "      <th>count</th>\n",
       "      <td>1000</td>\n",
       "      <td>1000</td>\n",
       "    </tr>\n",
       "    <tr>\n",
       "      <th>unique</th>\n",
       "      <td>999</td>\n",
       "      <td>6</td>\n",
       "    </tr>\n",
       "    <tr>\n",
       "      <th>top</th>\n",
       "      <td>An old friend just posted this on Facebook :P ...</td>\n",
       "      <td>not_cyberbullying</td>\n",
       "    </tr>\n",
       "    <tr>\n",
       "      <th>freq</th>\n",
       "      <td>2</td>\n",
       "      <td>177</td>\n",
       "    </tr>\n",
       "  </tbody>\n",
       "</table>\n",
       "</div>"
      ],
      "text/plain": [
       "                                               tweet_text cyberbullying_type\n",
       "count                                                1000               1000\n",
       "unique                                                999                  6\n",
       "top     An old friend just posted this on Facebook :P ...  not_cyberbullying\n",
       "freq                                                    2                177"
      ]
     },
     "execution_count": 73,
     "metadata": {},
     "output_type": "execute_result"
    }
   ],
   "source": [
    "df.describe()"
   ]
  },
  {
   "cell_type": "markdown",
   "id": "9563d100",
   "metadata": {},
   "source": [
    "### Check for any missing values"
   ]
  },
  {
   "cell_type": "code",
   "execution_count": 74,
   "id": "4422b923",
   "metadata": {},
   "outputs": [
    {
     "data": {
      "text/plain": [
       "tweet_text            0\n",
       "cyberbullying_type    0\n",
       "dtype: int64"
      ]
     },
     "execution_count": 74,
     "metadata": {},
     "output_type": "execute_result"
    }
   ],
   "source": [
    "df.isna().sum()"
   ]
  },
  {
   "cell_type": "markdown",
   "id": "cf5f9704",
   "metadata": {},
   "source": [
    "### Check for any duplicated values (Drop duplicates if any)"
   ]
  },
  {
   "cell_type": "code",
   "execution_count": 75,
   "id": "864b863b",
   "metadata": {},
   "outputs": [
    {
     "data": {
      "text/plain": [
       "0"
      ]
     },
     "execution_count": 75,
     "metadata": {},
     "output_type": "execute_result"
    }
   ],
   "source": [
    "df.duplicated().sum()"
   ]
  },
  {
   "cell_type": "code",
   "execution_count": 76,
   "id": "9bb256d2",
   "metadata": {},
   "outputs": [],
   "source": [
    "df.drop_duplicates(inplace = True)"
   ]
  },
  {
   "cell_type": "markdown",
   "id": "52ad4534",
   "metadata": {},
   "source": [
    "### Plot the countplot of 'Cyberbullying_type'"
   ]
  },
  {
   "cell_type": "code",
   "execution_count": 77,
   "id": "7f3d47cb",
   "metadata": {},
   "outputs": [
    {
     "data": {
      "image/png": "[encoded data removed]",
      "text/plain": [
       "<Figure size 576x576 with 1 Axes>"
      ]
     },
     "metadata": {
      "needs_background": "light"
     },
     "output_type": "display_data"
    }
   ],
   "source": [
    "plt.figure(figsize = (8,8))\n",
    "sns.countplot(x = df['cyberbullying_type'])\n",
    "plt.tight_layout()"
   ]
  },
  {
   "cell_type": "markdown",
   "id": "d552a8ad",
   "metadata": {},
   "source": [
    "### Create a Function that does the following operations\n",
    "* Remove any special characters or symbols\n",
    "* Convert all text to lowercase\n",
    "* Remove any stopwords\n",
    "* Lemmatise all the words present in the text"
   ]
  },
  {
   "cell_type": "code",
   "execution_count": 79,
   "id": "a7abeec6",
   "metadata": {},
   "outputs": [],
   "source": [
    "def preprocess(sentence):\n",
    "    text = re.sub(r\"[^a-zA-Z0-9]\", ' ', sentence).split()\n",
    "    \n",
    "    words = [x.lower() for x in text if x not in stopwords.words('english')]\n",
    "    \n",
    "    lemma = WordNetLemmatizer()\n",
    "    word = [lemma.lemmatize(word,'v') for word in words]\n",
    "    \n",
    "    word = ' '.join(word)\n",
    "    return word"
   ]
  },
  {
   "cell_type": "markdown",
   "id": "f07df3af",
   "metadata": {},
   "source": [
    "### Apply the function you just created to 'tweet_text'"
   ]
  },
  {
   "cell_type": "code",
   "execution_count": 80,
   "id": "4fa6c3c6",
   "metadata": {},
   "outputs": [],
   "source": [
    "df['tweet_text'] = df['tweet_text'].apply(preprocess)"
   ]
  },
  {
   "cell_type": "markdown",
   "id": "9d9d1f28",
   "metadata": {},
   "source": [
    "### Print some of the text after applying the function"
   ]
  },
  {
   "cell_type": "code",
   "execution_count": 82,
   "id": "2b737559",
   "metadata": {},
   "outputs": [
    {
     "name": "stdout",
     "output_type": "stream",
     "text": [
      "y see niggers try justify celebrate white holiday like i somebody ancestors chain july 4th 1776 keep i dont give a fuck what you do with your time dumb asses pop fireworks eat bbq clown ----- ethnicity\n",
      "\n",
      "spacekatgal danielpunkass hehehe level ----- not_cyberbullying\n",
      "\n",
      "anyways fuck secondary school especially first 2 years fuck hell classmates least 60 trashy people ever unsympathetic 0 empathy borderline bully gross fuckkkk ----- age\n",
      "\n",
      "ok response i gather see things non systemic that killer cop lone actor part system the muslims claim 600 questionable buy ill let pass kill political terrorists people self radicalize they push ----- religion\n",
      "\n",
      "pop quiz brainwash kaum name 5 hindu celebrities pakistan name 5 muslim celebrities india you raise believe lie hard accept how many hindu boys go school what hindu pak don idiot forever ----- religion\n",
      "\n"
     ]
    }
   ],
   "source": [
    "for i in range(5):\n",
    "    print(df['tweet_text'][i],'-----',df['cyberbullying_type'][i])\n",
    "    print()"
   ]
  },
  {
   "cell_type": "markdown",
   "id": "23ca04f9",
   "metadata": {},
   "source": [
    "### Create a Function to convert the categorical values into numerical. Use the following order:\n",
    "* not_cyberbullying = 0\n",
    "* ethnicity = 1\n",
    "* age = 2\n",
    "* religion = 3\n",
    "* gender = 4\n",
    "* other_cyberbullying = 5"
   ]
  },
  {
   "cell_type": "code",
   "execution_count": 85,
   "id": "70e0289f",
   "metadata": {},
   "outputs": [],
   "source": [
    "def change_type(a):\n",
    "    if a == 'ethnicity':\n",
    "        return 1\n",
    "    elif a == 'not_cyberbullying':\n",
    "        return 0\n",
    "    elif a == 'age':\n",
    "        return 2\n",
    "    elif a == 'religion':\n",
    "        return 3\n",
    "    elif a == 'gender':\n",
    "        return 4\n",
    "    else:\n",
    "        return 5"
   ]
  },
  {
   "cell_type": "markdown",
   "id": "c2de64f7",
   "metadata": {},
   "source": [
    "### Apply the funtion to 'cyberbullying_type' column"
   ]
  },
  {
   "cell_type": "code",
   "execution_count": 88,
   "id": "8a87c2d9",
   "metadata": {},
   "outputs": [],
   "source": [
    "df['cyberbullying_type'] = df['cyberbullying_type'].apply(change_type)"
   ]
  },
  {
   "cell_type": "code",
   "execution_count": 89,
   "id": "0f97bfcd",
   "metadata": {},
   "outputs": [
    {
     "data": {
      "text/html": [
       "<div>\n",
       "<style scoped>\n",
       "    .dataframe tbody tr th:only-of-type {\n",
       "        vertical-align: middle;\n",
       "    }\n",
       "\n",
       "    .dataframe tbody tr th {\n",
       "        vertical-align: top;\n",
       "    }\n",
       "\n",
       "    .dataframe thead th {\n",
       "        text-align: right;\n",
       "    }\n",
       "</style>\n",
       "<table border=\"1\" class=\"dataframe\">\n",
       "  <thead>\n",
       "    <tr style=\"text-align: right;\">\n",
       "      <th></th>\n",
       "      <th>tweet_text</th>\n",
       "      <th>cyberbullying_type</th>\n",
       "    </tr>\n",
       "  </thead>\n",
       "  <tbody>\n",
       "    <tr>\n",
       "      <th>0</th>\n",
       "      <td>y see niggers try justify celebrate white holi...</td>\n",
       "      <td>1</td>\n",
       "    </tr>\n",
       "    <tr>\n",
       "      <th>1</th>\n",
       "      <td>spacekatgal danielpunkass hehehe level</td>\n",
       "      <td>0</td>\n",
       "    </tr>\n",
       "    <tr>\n",
       "      <th>2</th>\n",
       "      <td>anyways fuck secondary school especially first...</td>\n",
       "      <td>2</td>\n",
       "    </tr>\n",
       "    <tr>\n",
       "      <th>3</th>\n",
       "      <td>ok response i gather see things non systemic t...</td>\n",
       "      <td>3</td>\n",
       "    </tr>\n",
       "    <tr>\n",
       "      <th>4</th>\n",
       "      <td>pop quiz brainwash kaum name 5 hindu celebriti...</td>\n",
       "      <td>3</td>\n",
       "    </tr>\n",
       "  </tbody>\n",
       "</table>\n",
       "</div>"
      ],
      "text/plain": [
       "                                          tweet_text  cyberbullying_type\n",
       "0  y see niggers try justify celebrate white holi...                   1\n",
       "1             spacekatgal danielpunkass hehehe level                   0\n",
       "2  anyways fuck secondary school especially first...                   2\n",
       "3  ok response i gather see things non systemic t...                   3\n",
       "4  pop quiz brainwash kaum name 5 hindu celebriti...                   3"
      ]
     },
     "execution_count": 89,
     "metadata": {},
     "output_type": "execute_result"
    }
   ],
   "source": [
    "df.head()"
   ]
  },
  {
   "cell_type": "markdown",
   "id": "e62989f7",
   "metadata": {},
   "source": [
    "### Split the dataset into input(X) and Target (y) variables"
   ]
  },
  {
   "cell_type": "code",
   "execution_count": 90,
   "id": "d32ee579",
   "metadata": {},
   "outputs": [],
   "source": [
    "X = df['tweet_text']\n",
    "y = df['cyberbullying_type']"
   ]
  },
  {
   "cell_type": "markdown",
   "id": "987512f0",
   "metadata": {},
   "source": [
    "### OneHotEncode our Target Variable with LabelBinalizer"
   ]
  },
  {
   "cell_type": "code",
   "execution_count": 93,
   "id": "95e4154b",
   "metadata": {},
   "outputs": [],
   "source": [
    "lb = LabelBinarizer()"
   ]
  },
  {
   "cell_type": "code",
   "execution_count": 95,
   "id": "c5208af5",
   "metadata": {},
   "outputs": [],
   "source": [
    "y = lb.fit_transform(y)"
   ]
  },
  {
   "cell_type": "markdown",
   "id": "1f72b90b",
   "metadata": {},
   "source": [
    "### Split the dataset into Training and Testing set"
   ]
  },
  {
   "cell_type": "code",
   "execution_count": 98,
   "id": "2b43df36",
   "metadata": {},
   "outputs": [],
   "source": [
    "X_train, X_test, y_train, y_test = train_test_split(X, y, test_size= 0.2)"
   ]
  },
  {
   "cell_type": "markdown",
   "id": "354dd258",
   "metadata": {},
   "source": [
    "### Convert text to sequence and add padding"
   ]
  },
  {
   "cell_type": "code",
   "execution_count": 100,
   "id": "e70c633e",
   "metadata": {},
   "outputs": [],
   "source": [
    "tokenizer = Tokenizer(num_words=5000)"
   ]
  },
  {
   "cell_type": "code",
   "execution_count": 102,
   "id": "faa5f64f",
   "metadata": {},
   "outputs": [],
   "source": [
    "tokenizer.fit_on_texts(X)"
   ]
  },
  {
   "cell_type": "code",
   "execution_count": 103,
   "id": "4ecad83c",
   "metadata": {},
   "outputs": [],
   "source": [
    "vocab_size = len(tokenizer.word_index) + 1"
   ]
  },
  {
   "cell_type": "code",
   "execution_count": 105,
   "id": "240c2e39",
   "metadata": {},
   "outputs": [],
   "source": [
    "def text_encoding(txt):\n",
    "    # texts_to_sequences Transforms each text in texts to a sequence of integers.\n",
    "    encoded_docs = tokenizer.texts_to_sequences(txt)\n",
    "    \n",
    "    # pad_sequences is used to ensure that all sequences in a list have the same length.\n",
    "    padded_sequence = pad_sequences(encoded_docs, maxlen=128)    \n",
    "       \n",
    "    return padded_sequence"
   ]
  },
  {
   "cell_type": "code",
   "execution_count": 106,
   "id": "1e39783e",
   "metadata": {},
   "outputs": [],
   "source": [
    "X_train = text_encoding(X_train)\n",
    "X_test = text_encoding(X_test)"
   ]
  },
  {
   "cell_type": "markdown",
   "id": "b358a1b0",
   "metadata": {},
   "source": [
    "### Create a keras Sequential model with the following layers\n",
    "* Embedding layer\n",
    "* 2 GRU layers\n",
    "* Dropout layers\n",
    "* 1 Hidden layer\n",
    "* Output layer"
   ]
  },
  {
   "cell_type": "code",
   "execution_count": 139,
   "id": "a4481e7c",
   "metadata": {},
   "outputs": [],
   "source": [
    "model = Sequential()\n",
    "model.add(layers.Embedding(vocab_size, 128))\n",
    "\n",
    "model.add(layers.GRU(128, return_sequences=True))\n",
    "model.add(layers.Dropout(0.2))\n",
    "model.add(layers.GRU(128))\n",
    "model.add(layers.Dropout(0.2))\n",
    "model.add(layers.Dense(64, activation = 'relu'))\n",
    "model.add(layers.Dropout(0.2))\n",
    "model.add(layers.Dense(6, activation = 'softmax'))"
   ]
  },
  {
   "cell_type": "markdown",
   "id": "3f90534d",
   "metadata": {},
   "source": [
    "### Compile the model"
   ]
  },
  {
   "cell_type": "code",
   "execution_count": 140,
   "id": "9b4e7efc",
   "metadata": {},
   "outputs": [],
   "source": [
    "model.compile(loss = 'categorical_crossentropy', optimizer = 'adam', metrics = 'accuracy')"
   ]
  },
  {
   "cell_type": "markdown",
   "id": "b8a31117",
   "metadata": {},
   "source": [
    "### Check the summary of the model"
   ]
  },
  {
   "cell_type": "code",
   "execution_count": 164,
   "id": "a96d447a",
   "metadata": {},
   "outputs": [
    {
     "name": "stdout",
     "output_type": "stream",
     "text": [
      "Model: \"sequential_8\"\n",
      "_________________________________________________________________\n",
      " Layer (type)                Output Shape              Param #   \n",
      "=================================================================\n",
      " embedding_8 (Embedding)     (None, None, 128)         575744    \n",
      "                                                                 \n",
      " gru_8 (GRU)                 (None, None, 128)         99072     \n",
      "                                                                 \n",
      " dropout_11 (Dropout)        (None, None, 128)         0         \n",
      "                                                                 \n",
      " gru_9 (GRU)                 (None, 128)               99072     \n",
      "                                                                 \n",
      " dropout_12 (Dropout)        (None, 128)               0         \n",
      "                                                                 \n",
      " dense_11 (Dense)            (None, 64)                8256      \n",
      "                                                                 \n",
      " dropout_13 (Dropout)        (None, 64)                0         \n",
      "                                                                 \n",
      " dense_12 (Dense)            (None, 6)                 390       \n",
      "                                                                 \n",
      "=================================================================\n",
      "Total params: 782,534\n",
      "Trainable params: 782,534\n",
      "Non-trainable params: 0\n",
      "_________________________________________________________________\n"
     ]
    }
   ],
   "source": [
    "model.summary()"
   ]
  },
  {
   "cell_type": "markdown",
   "id": "b54986f7",
   "metadata": {},
   "source": [
    "### Train the model with X_train & y_train"
   ]
  },
  {
   "cell_type": "code",
   "execution_count": 143,
   "id": "0f6c23ca",
   "metadata": {},
   "outputs": [
    {
     "name": "stdout",
     "output_type": "stream",
     "text": [
      "Epoch 1/15\n",
      "23/23 [==============================] - 3s 127ms/step - loss: 0.0736 - accuracy: 0.9806 - val_loss: 1.0755 - val_accuracy: 0.7000\n",
      "Epoch 2/15\n",
      "23/23 [==============================] - 3s 123ms/step - loss: 0.0358 - accuracy: 0.9931 - val_loss: 1.3280 - val_accuracy: 0.7000\n",
      "Epoch 3/15\n",
      "23/23 [==============================] - 3s 123ms/step - loss: 0.0341 - accuracy: 0.9861 - val_loss: 1.2828 - val_accuracy: 0.6875\n",
      "Epoch 4/15\n",
      "23/23 [==============================] - 3s 123ms/step - loss: 0.0117 - accuracy: 0.9986 - val_loss: 1.2882 - val_accuracy: 0.7250\n",
      "Epoch 5/15\n",
      "23/23 [==============================] - 3s 124ms/step - loss: 0.0097 - accuracy: 0.9972 - val_loss: 1.4311 - val_accuracy: 0.7000\n",
      "Epoch 6/15\n",
      "23/23 [==============================] - 3s 125ms/step - loss: 0.0378 - accuracy: 0.9903 - val_loss: 1.3861 - val_accuracy: 0.7000\n",
      "Epoch 7/15\n",
      "23/23 [==============================] - 3s 124ms/step - loss: 0.0229 - accuracy: 0.9944 - val_loss: 1.4701 - val_accuracy: 0.6750\n",
      "Epoch 8/15\n",
      "23/23 [==============================] - 3s 124ms/step - loss: 0.0167 - accuracy: 0.9972 - val_loss: 1.2806 - val_accuracy: 0.7250\n",
      "Epoch 9/15\n",
      "23/23 [==============================] - 3s 126ms/step - loss: 0.0149 - accuracy: 0.9972 - val_loss: 1.2678 - val_accuracy: 0.7125\n",
      "Epoch 10/15\n",
      "23/23 [==============================] - 3s 123ms/step - loss: 0.0238 - accuracy: 0.9917 - val_loss: 1.2883 - val_accuracy: 0.7250\n",
      "Epoch 11/15\n",
      "23/23 [==============================] - 3s 125ms/step - loss: 0.0124 - accuracy: 0.9972 - val_loss: 1.3744 - val_accuracy: 0.7125\n",
      "Epoch 12/15\n",
      "23/23 [==============================] - 3s 123ms/step - loss: 0.0216 - accuracy: 0.9944 - val_loss: 1.4238 - val_accuracy: 0.7500\n",
      "Epoch 13/15\n",
      "23/23 [==============================] - 3s 124ms/step - loss: 0.0458 - accuracy: 0.9889 - val_loss: 1.3063 - val_accuracy: 0.7250\n",
      "Epoch 14/15\n",
      "23/23 [==============================] - 3s 124ms/step - loss: 0.0474 - accuracy: 0.9903 - val_loss: 1.6110 - val_accuracy: 0.6750\n",
      "Epoch 15/15\n",
      "23/23 [==============================] - 3s 123ms/step - loss: 0.0310 - accuracy: 0.9958 - val_loss: 1.4080 - val_accuracy: 0.7625\n"
     ]
    },
    {
     "data": {
      "text/plain": [
       "<keras.callbacks.History at 0x1c902f78460>"
      ]
     },
     "execution_count": 143,
     "metadata": {},
     "output_type": "execute_result"
    }
   ],
   "source": [
    "model.fit(X_train, y_train, epochs=15, validation_split=0.1)"
   ]
  },
  {
   "cell_type": "markdown",
   "id": "670f4343",
   "metadata": {},
   "source": [
    "### Evaluate the model with model.evaluate method"
   ]
  },
  {
   "cell_type": "code",
   "execution_count": 144,
   "id": "9516f0d1",
   "metadata": {},
   "outputs": [
    {
     "name": "stdout",
     "output_type": "stream",
     "text": [
      "25/25 [==============================] - 2s 37ms/step - loss: 0.1660 - accuracy: 0.9700\n"
     ]
    },
    {
     "data": {
      "text/plain": [
       "[0.1660234034061432, 0.9700000286102295]"
      ]
     },
     "execution_count": 144,
     "metadata": {},
     "output_type": "execute_result"
    }
   ],
   "source": [
    "model.evaluate(X_train, y_train)"
   ]
  },
  {
   "cell_type": "markdown",
   "id": "67a08200",
   "metadata": {},
   "source": [
    "### Make predictions with X_test"
   ]
  },
  {
   "cell_type": "code",
   "execution_count": 145,
   "id": "90e72204",
   "metadata": {},
   "outputs": [],
   "source": [
    "y_pred = model.predict(X_test)"
   ]
  },
  {
   "cell_type": "markdown",
   "id": "69f49fda",
   "metadata": {},
   "source": [
    "### Convert all predicted values and Actual values to a simple array (Remove OneHotEncoding)"
   ]
  },
  {
   "cell_type": "code",
   "execution_count": 150,
   "id": "6be6c76f",
   "metadata": {},
   "outputs": [],
   "source": [
    "y_pred = [np.argmax(i) for i in y_pred]\n",
    "y_test = [np.argmax(i) for i in y_test]"
   ]
  },
  {
   "cell_type": "markdown",
   "id": "18bb211d",
   "metadata": {},
   "source": [
    "### Check the accuracy score of our prediction"
   ]
  },
  {
   "cell_type": "code",
   "execution_count": 153,
   "id": "2b81b1e8",
   "metadata": {
    "scrolled": true
   },
   "outputs": [
    {
     "data": {
      "text/plain": [
       "0.655"
      ]
     },
     "execution_count": 153,
     "metadata": {},
     "output_type": "execute_result"
    }
   ],
   "source": [
    "accuracy_score(y_test, y_pred)"
   ]
  },
  {
   "cell_type": "markdown",
   "id": "4319ca6a",
   "metadata": {},
   "source": [
    "### Plot confusion matrix on a heatmap"
   ]
  },
  {
   "cell_type": "code",
   "execution_count": 166,
   "id": "648fbf27",
   "metadata": {
    "scrolled": true
   },
   "outputs": [
    {
     "data": {
      "image/png": "[encoded data removed]",
      "text/plain": [
       "<Figure size 576x432 with 2 Axes>"
      ]
     },
     "metadata": {
      "needs_background": "light"
     },
     "output_type": "display_data"
    }
   ],
   "source": [
    "plt.figure(figsize = (8,6))\n",
    "sns.heatmap(confusion_matrix(y_test, y_pred), annot = True)\n",
    "plt.show()"
   ]
  },
  {
   "cell_type": "markdown",
   "id": "4b9eba42",
   "metadata": {},
   "source": [
    "### Print classification report"
   ]
  },
  {
   "cell_type": "code",
   "execution_count": 160,
   "id": "4578ce2b",
   "metadata": {},
   "outputs": [
    {
     "name": "stdout",
     "output_type": "stream",
     "text": [
      "              precision    recall  f1-score   support\n",
      "\n",
      "           0       0.43      0.36      0.39        28\n",
      "           1       0.94      0.82      0.87        38\n",
      "           2       0.87      0.89      0.88        38\n",
      "           3       0.90      0.56      0.69        34\n",
      "           4       0.45      0.66      0.54        29\n",
      "           5       0.43      0.55      0.48        33\n",
      "\n",
      "    accuracy                           0.66       200\n",
      "   macro avg       0.67      0.64      0.64       200\n",
      "weighted avg       0.70      0.66      0.66       200\n",
      "\n"
     ]
    }
   ],
   "source": [
    "print(classification_report(y_test, y_pred))"
   ]
  },
  {
   "cell_type": "markdown",
   "id": "ae1ebec4",
   "metadata": {},
   "source": [
    "***"
   ]
  }
 ],
 "metadata": {
  "kernelspec": {
   "display_name": "Python 3 (ipykernel)",
   "language": "python",
   "name": "python3"
  },
  "language_info": {
   "codemirror_mode": {
    "name": "ipython",
    "version": 3
   },
   "file_extension": ".py",
   "mimetype": "text/x-python",
   "name": "python",
   "nbconvert_exporter": "python",
   "pygments_lexer": "ipython3",
   "version": "3.9.12"
  }
 },
 "nbformat": 4,
 "nbformat_minor": 5
}
