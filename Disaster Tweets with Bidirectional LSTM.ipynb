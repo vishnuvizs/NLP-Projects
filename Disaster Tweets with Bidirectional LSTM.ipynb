{
 "cells": [
  {
   "cell_type": "markdown",
   "id": "9233a62d",
   "metadata": {},
   "source": [
    "# <span style = \"color:coral\">Disaster Tweets</span>"
   ]
  },
  {
   "cell_type": "markdown",
   "id": "82ff506d",
   "metadata": {},
   "source": [
    "The file contains over 11,000 tweets associated with disaster keywords like “crash”, “quarantine”, and “bush fires” as well as the location and keyword itself. The data structure was inherited from Disasters on social media\n",
    "\n",
    "The tweets were collected on Jan 14th, 2020.\n",
    "\n",
    "Some of the topics people were tweeting:\n",
    "\n",
    "* The eruption of Taal Volcano in Batangas, Philippines\n",
    "* Coronavirus\n",
    "* Bushfires in Australia\n",
    "* Iran downing of the airplane flight PS752\n",
    "\n",
    "Disclaimer: The dataset contains text that may be considered profane, vulgar, or offensive."
   ]
  },
  {
   "cell_type": "markdown",
   "id": "6b441c3f",
   "metadata": {},
   "source": [
    "Download the dataset from this website: <a href = \"https://www.kaggle.com/datasets/vstepanenko/disaster-tweets\"> Here </a>"
   ]
  },
  {
   "cell_type": "markdown",
   "id": "d2fc91da",
   "metadata": {},
   "source": [
    "***"
   ]
  },
  {
   "cell_type": "markdown",
   "id": "8f2193e8",
   "metadata": {},
   "source": [
    "### Import Necessary Libraries"
   ]
  },
  {
   "cell_type": "code",
   "execution_count": 68,
   "id": "48d6ddf4",
   "metadata": {},
   "outputs": [],
   "source": [
    "import numpy as np\n",
    "import pandas as pd\n",
    "import matplotlib.pyplot as plt\n",
    "import seaborn as sns\n",
    "import nltk\n",
    "import re\n",
    "from nltk.corpus import stopwords\n",
    "from nltk.stem import WordNetLemmatizer\n",
    "from sklearn.model_selection import train_test_split\n",
    "from sklearn.metrics import accuracy_score, confusion_matrix, classification_report\n",
    "from tensorflow.keras import layers\n",
    "from tensorflow.keras import Sequential\n",
    "from sklearn.preprocessing import LabelBinarizer\n",
    "from tensorflow.keras.preprocessing.text import Tokenizer\n",
    "from tensorflow.keras.preprocessing.sequence import pad_sequences"
   ]
  },
  {
   "cell_type": "markdown",
   "id": "4398e397",
   "metadata": {},
   "source": [
    "### Read 'disaster tweets.csv'"
   ]
  },
  {
   "cell_type": "code",
   "execution_count": 37,
   "id": "ff553e39",
   "metadata": {},
   "outputs": [],
   "source": [
    "df = pd.read_csv('disaster tweets.csv')"
   ]
  },
  {
   "cell_type": "code",
   "execution_count": 38,
   "id": "a7f60477",
   "metadata": {},
   "outputs": [
    {
     "data": {
      "text/html": [
       "<div>\n",
       "<style scoped>\n",
       "    .dataframe tbody tr th:only-of-type {\n",
       "        vertical-align: middle;\n",
       "    }\n",
       "\n",
       "    .dataframe tbody tr th {\n",
       "        vertical-align: top;\n",
       "    }\n",
       "\n",
       "    .dataframe thead th {\n",
       "        text-align: right;\n",
       "    }\n",
       "</style>\n",
       "<table border=\"1\" class=\"dataframe\">\n",
       "  <thead>\n",
       "    <tr style=\"text-align: right;\">\n",
       "      <th></th>\n",
       "      <th>id</th>\n",
       "      <th>keyword</th>\n",
       "      <th>location</th>\n",
       "      <th>text</th>\n",
       "      <th>target</th>\n",
       "    </tr>\n",
       "  </thead>\n",
       "  <tbody>\n",
       "    <tr>\n",
       "      <th>0</th>\n",
       "      <td>0</td>\n",
       "      <td>ablaze</td>\n",
       "      <td>NaN</td>\n",
       "      <td>Communal violence in Bhainsa, Telangana. \"Ston...</td>\n",
       "      <td>1</td>\n",
       "    </tr>\n",
       "    <tr>\n",
       "      <th>1</th>\n",
       "      <td>1</td>\n",
       "      <td>ablaze</td>\n",
       "      <td>NaN</td>\n",
       "      <td>Telangana: Section 144 has been imposed in Bha...</td>\n",
       "      <td>1</td>\n",
       "    </tr>\n",
       "    <tr>\n",
       "      <th>2</th>\n",
       "      <td>2</td>\n",
       "      <td>ablaze</td>\n",
       "      <td>New York City</td>\n",
       "      <td>Arsonist sets cars ablaze at dealership https:...</td>\n",
       "      <td>1</td>\n",
       "    </tr>\n",
       "    <tr>\n",
       "      <th>3</th>\n",
       "      <td>3</td>\n",
       "      <td>ablaze</td>\n",
       "      <td>Morgantown, WV</td>\n",
       "      <td>Arsonist sets cars ablaze at dealership https:...</td>\n",
       "      <td>1</td>\n",
       "    </tr>\n",
       "    <tr>\n",
       "      <th>4</th>\n",
       "      <td>4</td>\n",
       "      <td>ablaze</td>\n",
       "      <td>NaN</td>\n",
       "      <td>\"Lord Jesus, your love brings freedom and pard...</td>\n",
       "      <td>0</td>\n",
       "    </tr>\n",
       "  </tbody>\n",
       "</table>\n",
       "</div>"
      ],
      "text/plain": [
       "   id keyword        location  \\\n",
       "0   0  ablaze             NaN   \n",
       "1   1  ablaze             NaN   \n",
       "2   2  ablaze   New York City   \n",
       "3   3  ablaze  Morgantown, WV   \n",
       "4   4  ablaze             NaN   \n",
       "\n",
       "                                                text  target  \n",
       "0  Communal violence in Bhainsa, Telangana. \"Ston...       1  \n",
       "1  Telangana: Section 144 has been imposed in Bha...       1  \n",
       "2  Arsonist sets cars ablaze at dealership https:...       1  \n",
       "3  Arsonist sets cars ablaze at dealership https:...       1  \n",
       "4  \"Lord Jesus, your love brings freedom and pard...       0  "
      ]
     },
     "execution_count": 38,
     "metadata": {},
     "output_type": "execute_result"
    }
   ],
   "source": [
    "df.head()"
   ]
  },
  {
   "cell_type": "markdown",
   "id": "05d90cab",
   "metadata": {},
   "source": [
    "### Check info of the dataset"
   ]
  },
  {
   "cell_type": "code",
   "execution_count": 39,
   "id": "26ef462e",
   "metadata": {},
   "outputs": [
    {
     "name": "stdout",
     "output_type": "stream",
     "text": [
      "<class 'pandas.core.frame.DataFrame'>\n",
      "RangeIndex: 11370 entries, 0 to 11369\n",
      "Data columns (total 5 columns):\n",
      " #   Column    Non-Null Count  Dtype \n",
      "---  ------    --------------  ----- \n",
      " 0   id        11370 non-null  int64 \n",
      " 1   keyword   11370 non-null  object\n",
      " 2   location  7952 non-null   object\n",
      " 3   text      11370 non-null  object\n",
      " 4   target    11370 non-null  int64 \n",
      "dtypes: int64(2), object(3)\n",
      "memory usage: 444.3+ KB\n"
     ]
    }
   ],
   "source": [
    "df.info()"
   ]
  },
  {
   "cell_type": "markdown",
   "id": "5c1d3e2e",
   "metadata": {},
   "source": [
    "### Drop unwanted columns"
   ]
  },
  {
   "cell_type": "code",
   "execution_count": 40,
   "id": "a51ab206",
   "metadata": {},
   "outputs": [],
   "source": [
    "df.drop(columns = ['id','keyword','location'], inplace= True)"
   ]
  },
  {
   "cell_type": "code",
   "execution_count": 41,
   "id": "b389d412",
   "metadata": {},
   "outputs": [
    {
     "data": {
      "text/html": [
       "<div>\n",
       "<style scoped>\n",
       "    .dataframe tbody tr th:only-of-type {\n",
       "        vertical-align: middle;\n",
       "    }\n",
       "\n",
       "    .dataframe tbody tr th {\n",
       "        vertical-align: top;\n",
       "    }\n",
       "\n",
       "    .dataframe thead th {\n",
       "        text-align: right;\n",
       "    }\n",
       "</style>\n",
       "<table border=\"1\" class=\"dataframe\">\n",
       "  <thead>\n",
       "    <tr style=\"text-align: right;\">\n",
       "      <th></th>\n",
       "      <th>text</th>\n",
       "      <th>target</th>\n",
       "    </tr>\n",
       "  </thead>\n",
       "  <tbody>\n",
       "    <tr>\n",
       "      <th>0</th>\n",
       "      <td>Communal violence in Bhainsa, Telangana. \"Ston...</td>\n",
       "      <td>1</td>\n",
       "    </tr>\n",
       "    <tr>\n",
       "      <th>1</th>\n",
       "      <td>Telangana: Section 144 has been imposed in Bha...</td>\n",
       "      <td>1</td>\n",
       "    </tr>\n",
       "    <tr>\n",
       "      <th>2</th>\n",
       "      <td>Arsonist sets cars ablaze at dealership https:...</td>\n",
       "      <td>1</td>\n",
       "    </tr>\n",
       "    <tr>\n",
       "      <th>3</th>\n",
       "      <td>Arsonist sets cars ablaze at dealership https:...</td>\n",
       "      <td>1</td>\n",
       "    </tr>\n",
       "    <tr>\n",
       "      <th>4</th>\n",
       "      <td>\"Lord Jesus, your love brings freedom and pard...</td>\n",
       "      <td>0</td>\n",
       "    </tr>\n",
       "  </tbody>\n",
       "</table>\n",
       "</div>"
      ],
      "text/plain": [
       "                                                text  target\n",
       "0  Communal violence in Bhainsa, Telangana. \"Ston...       1\n",
       "1  Telangana: Section 144 has been imposed in Bha...       1\n",
       "2  Arsonist sets cars ablaze at dealership https:...       1\n",
       "3  Arsonist sets cars ablaze at dealership https:...       1\n",
       "4  \"Lord Jesus, your love brings freedom and pard...       0"
      ]
     },
     "execution_count": 41,
     "metadata": {},
     "output_type": "execute_result"
    }
   ],
   "source": [
    "df.head()"
   ]
  },
  {
   "cell_type": "markdown",
   "id": "b99d26ed",
   "metadata": {},
   "source": [
    "### Plot a countplot or piechart of the Target"
   ]
  },
  {
   "cell_type": "code",
   "execution_count": 43,
   "id": "b7d74aff",
   "metadata": {},
   "outputs": [
    {
     "data": {
      "image/png": "[encoded data removed]",
      "text/plain": [
       "<Figure size 1008x288 with 2 Axes>"
      ]
     },
     "metadata": {
      "needs_background": "light"
     },
     "output_type": "display_data"
    }
   ],
   "source": [
    "plt.figure(figsize = (14,4))\n",
    "plt.subplot(1,2,1)\n",
    "sns.countplot(y = df['target'])\n",
    "plt.subplot(1,2,2)\n",
    "df['target'].value_counts().plot.pie(explode = [0.01,0.01], autopct = '%1.1f%%', shadow = True)\n",
    "plt.show()"
   ]
  },
  {
   "cell_type": "code",
   "execution_count": 149,
   "id": "b5c4144c",
   "metadata": {},
   "outputs": [],
   "source": [
    "df0 = df[df['target'] == 0]\n",
    "df1 = df[df['target'] == 1]"
   ]
  },
  {
   "cell_type": "markdown",
   "id": "4fb8dab6",
   "metadata": {},
   "source": [
    "### Reduce the sample size of both targets to 2000"
   ]
  },
  {
   "cell_type": "code",
   "execution_count": 153,
   "id": "11fd3c88",
   "metadata": {},
   "outputs": [],
   "source": [
    "df = pd.concat([df0[0:2000],df1[0:2000]])"
   ]
  },
  {
   "cell_type": "code",
   "execution_count": 155,
   "id": "821b4e2f",
   "metadata": {},
   "outputs": [],
   "source": [
    "df = df.sample(frac = 1)"
   ]
  },
  {
   "cell_type": "code",
   "execution_count": 156,
   "id": "34e50478",
   "metadata": {},
   "outputs": [],
   "source": [
    "df.reset_index(drop = True, inplace = True)"
   ]
  },
  {
   "cell_type": "markdown",
   "id": "99448ca1",
   "metadata": {},
   "source": [
    "### Plot countplot of piechart after sample reduction"
   ]
  },
  {
   "cell_type": "code",
   "execution_count": 157,
   "id": "9631c17b",
   "metadata": {},
   "outputs": [
    {
     "data": {
      "image/png": "[encoded data removed]",
      "text/plain": [
       "<Figure size 1008x288 with 2 Axes>"
      ]
     },
     "metadata": {
      "needs_background": "light"
     },
     "output_type": "display_data"
    }
   ],
   "source": [
    "plt.figure(figsize = (14,4))\n",
    "plt.subplot(1,2,1)\n",
    "sns.countplot(y = df['target'])\n",
    "plt.subplot(1,2,2)\n",
    "df['target'].value_counts().plot.pie(explode = [0.01,0.01], autopct = '%1.1f%%', shadow = True)\n",
    "plt.show()"
   ]
  },
  {
   "cell_type": "markdown",
   "id": "f28b001b",
   "metadata": {},
   "source": [
    "### View some of the texts along with its target"
   ]
  },
  {
   "cell_type": "code",
   "execution_count": 45,
   "id": "07daf47a",
   "metadata": {},
   "outputs": [
    {
     "name": "stdout",
     "output_type": "stream",
     "text": [
      "Communal violence in Bhainsa, Telangana. \"Stones were pelted on Muslims' houses and some houses and vehicles were set ablaze… --- 1\n",
      "\n",
      "Telangana: Section 144 has been imposed in Bhainsa from January 13 to 15, after clash erupted between two groups on January 12. Po… --- 1\n",
      "\n",
      "Arsonist sets cars ablaze at dealership https://t.co/gOQvyJbpVI --- 1\n",
      "\n",
      "Arsonist sets cars ablaze at dealership https://t.co/0gL7NUCPlb https://t.co/u1CcBhOWh9 --- 1\n",
      "\n",
      "\"Lord Jesus, your love brings freedom and pardon. Fill me with your Holy Spirit and set my heart ablaze with your l… https://t.co/VlTznnPNi8 --- 0\n",
      "\n",
      "If this child was Chinese, this tweet would have gone viral. Social media would be ablaze. SNL would have made a racist j… --- 0\n",
      "\n",
      "Several houses have been set ablaze in Ngemsibaa village, Oku sub division in the North West Region of Cameroon by… https://t.co/99uHGAzxy2 --- 1\n",
      "\n",
      "Asansol: A BJP office in Salanpur village was set ablaze last night. BJP has alleged that TMC is behind the incident. Police has b… --- 1\n",
      "\n",
      "National Security Minister, Kan Dapaah's side chic has set the internet ablaze with her latest powerful video.… https://t.co/rhzOMQVSlj --- 0\n",
      "\n",
      "This creature who’s soul is no longer clarent but blue ablaze This thing Carrying memories Memories of… https://t.co/tBKSNDrDoX --- 0\n",
      "\n"
     ]
    }
   ],
   "source": [
    "for i in range(10):\n",
    "    print(df['text'][i],'---',df['target'][i])\n",
    "    print()"
   ]
  },
  {
   "cell_type": "markdown",
   "id": "5dc8546c",
   "metadata": {},
   "source": [
    "There seems to be some urls in the text. Remove those with the following regular expression when creating the function to preprocess the text"
   ]
  },
  {
   "cell_type": "markdown",
   "id": "2c6d59c3",
   "metadata": {},
   "source": [
    "<center> (https?:\\/\\/)?([\\da-z\\.-]+)\\.([a-z\\.]{2,6})([\\/\\w\\.-]*)</center>"
   ]
  },
  {
   "cell_type": "markdown",
   "id": "9f61d8a5",
   "metadata": {},
   "source": [
    "### Create a function to preprocess the text:\n",
    "* Convert all texts to lowercaser\n",
    "* Lemmatize all the words\n",
    "* Remove any stopwords\n",
    "* Remove any special characters"
   ]
  },
  {
   "cell_type": "code",
   "execution_count": 158,
   "id": "57ca136f",
   "metadata": {},
   "outputs": [],
   "source": [
    "def preprocess(sentence):\n",
    "    text = re.sub(r\"(https?:\\/\\/)?([\\da-z\\.-]+)\\.([a-z\\.]{2,6})([\\/\\w\\.-]*)\",' ',sentence)\n",
    "    text = re.sub(r\"[^0-9a-zA-Z]\",' ', text).split()\n",
    "    \n",
    "    text = [i.lower() for i in text if i not in stopwords.words('english')]\n",
    "    \n",
    "    lemma = WordNetLemmatizer()\n",
    "    text = [lemma.lemmatize(i) for i in text]\n",
    "    \n",
    "    return ' '.join(text)"
   ]
  },
  {
   "cell_type": "code",
   "execution_count": 159,
   "id": "25be9311",
   "metadata": {},
   "outputs": [],
   "source": [
    "df['text'] = df['text'].apply(preprocess)"
   ]
  },
  {
   "cell_type": "code",
   "execution_count": 160,
   "id": "3e522064",
   "metadata": {},
   "outputs": [
    {
     "data": {
      "text/html": [
       "<div>\n",
       "<style scoped>\n",
       "    .dataframe tbody tr th:only-of-type {\n",
       "        vertical-align: middle;\n",
       "    }\n",
       "\n",
       "    .dataframe tbody tr th {\n",
       "        vertical-align: top;\n",
       "    }\n",
       "\n",
       "    .dataframe thead th {\n",
       "        text-align: right;\n",
       "    }\n",
       "</style>\n",
       "<table border=\"1\" class=\"dataframe\">\n",
       "  <thead>\n",
       "    <tr style=\"text-align: right;\">\n",
       "      <th></th>\n",
       "      <th>text</th>\n",
       "      <th>target</th>\n",
       "    </tr>\n",
       "  </thead>\n",
       "  <tbody>\n",
       "    <tr>\n",
       "      <th>0</th>\n",
       "      <td>syria southern idlib countryside assad regime ...</td>\n",
       "      <td>1</td>\n",
       "    </tr>\n",
       "    <tr>\n",
       "      <th>1</th>\n",
       "      <td>assassination iranian general killing 176 inno...</td>\n",
       "      <td>1</td>\n",
       "    </tr>\n",
       "    <tr>\n",
       "      <th>2</th>\n",
       "      <td>two civilian casualty succumbed injury total 5...</td>\n",
       "      <td>1</td>\n",
       "    </tr>\n",
       "    <tr>\n",
       "      <th>3</th>\n",
       "      <td>next desperate measure community taking ensure...</td>\n",
       "      <td>1</td>\n",
       "    </tr>\n",
       "    <tr>\n",
       "      <th>4</th>\n",
       "      <td>israel demolish home palestinian prisoner west...</td>\n",
       "      <td>1</td>\n",
       "    </tr>\n",
       "  </tbody>\n",
       "</table>\n",
       "</div>"
      ],
      "text/plain": [
       "                                                text  target\n",
       "0  syria southern idlib countryside assad regime ...       1\n",
       "1  assassination iranian general killing 176 inno...       1\n",
       "2  two civilian casualty succumbed injury total 5...       1\n",
       "3  next desperate measure community taking ensure...       1\n",
       "4  israel demolish home palestinian prisoner west...       1"
      ]
     },
     "execution_count": 160,
     "metadata": {},
     "output_type": "execute_result"
    }
   ],
   "source": [
    "df.head()"
   ]
  },
  {
   "cell_type": "markdown",
   "id": "5473c4e3",
   "metadata": {},
   "source": [
    "### Print some of the text after applying the preprocess function"
   ]
  },
  {
   "cell_type": "code",
   "execution_count": 161,
   "id": "c30015b4",
   "metadata": {},
   "outputs": [
    {
     "name": "stdout",
     "output_type": "stream",
     "text": [
      "syria southern idlib countryside assad regime militia stationed nearby checkpoint bomb town tal min --- 1\n",
      "\n",
      "assassination iranian general killing 176 innocent passenger aboard r --- 1\n",
      "\n",
      "two civilian casualty succumbed injury total 5 civilian shaheed indian gun silent undertake ev --- 1\n",
      "\n",
      "next desperate measure community taking ensure enough water survive --- 1\n",
      "\n",
      "israel demolish home palestinian prisoner westbank warcrimes via --- 1\n",
      "\n",
      "rubble 9 11 since got going --- 1\n",
      "\n",
      "damage another 6 0 earthquake hit puerto rico morning severe seismic activity stopped since december 28 --- 1\n",
      "\n",
      "wake hurricane harvey grew volunteer base 8 83 000 rebuild houston u --- 1\n",
      "\n",
      "1496days since inhuman zariagenocide wicked mass murderer tyrant 548 men murdered 297 woman murdered 19 --- 1\n",
      "\n",
      "destruction wildlife bush fire horrific distressing sight two kookaburra early th --- 0\n",
      "\n"
     ]
    }
   ],
   "source": [
    "for i in range(10):\n",
    "    print(df['text'][i],'---',df['target'][i])\n",
    "    print()"
   ]
  },
  {
   "cell_type": "markdown",
   "id": "af9924ce",
   "metadata": {},
   "source": [
    "### Split the dataset into Input & Target Variables"
   ]
  },
  {
   "cell_type": "code",
   "execution_count": 342,
   "id": "e59796d6",
   "metadata": {},
   "outputs": [],
   "source": [
    "X = df['text']\n",
    "y = df['target']"
   ]
  },
  {
   "cell_type": "code",
   "execution_count": 343,
   "id": "fe61bcce",
   "metadata": {},
   "outputs": [],
   "source": [
    "y = pd.get_dummies(y)"
   ]
  },
  {
   "cell_type": "code",
   "execution_count": 344,
   "id": "c35de0ae",
   "metadata": {},
   "outputs": [],
   "source": [
    "y = y.values"
   ]
  },
  {
   "cell_type": "markdown",
   "id": "107fe1ee",
   "metadata": {},
   "source": [
    "### Convert text to sequence and add padding"
   ]
  },
  {
   "cell_type": "code",
   "execution_count": 345,
   "id": "a94a646f",
   "metadata": {},
   "outputs": [],
   "source": [
    "tokenizer = Tokenizer(num_words=10000)"
   ]
  },
  {
   "cell_type": "code",
   "execution_count": 346,
   "id": "b32e8c4d",
   "metadata": {},
   "outputs": [],
   "source": [
    "tokenizer.fit_on_texts(X)"
   ]
  },
  {
   "cell_type": "code",
   "execution_count": 347,
   "id": "fb68a54d",
   "metadata": {},
   "outputs": [],
   "source": [
    "vocab_size = len(tokenizer.word_index) + 1"
   ]
  },
  {
   "cell_type": "code",
   "execution_count": 348,
   "id": "e54a88d1",
   "metadata": {},
   "outputs": [],
   "source": [
    "def text_encoding(txt):\n",
    "    encoded_docs = tokenizer.texts_to_sequences(txt)\n",
    "    padded_sequence = pad_sequences(encoded_docs, maxlen=50)\n",
    "    return padded_sequence"
   ]
  },
  {
   "cell_type": "code",
   "execution_count": 349,
   "id": "9e4a1201",
   "metadata": {},
   "outputs": [],
   "source": [
    "X = text_encoding(X)"
   ]
  },
  {
   "cell_type": "markdown",
   "id": "8acb42f8",
   "metadata": {},
   "source": [
    "### Split the dataset into training & testing set"
   ]
  },
  {
   "cell_type": "code",
   "execution_count": 388,
   "id": "472d7c76",
   "metadata": {},
   "outputs": [],
   "source": [
    "X_train, X_test, y_train,y_test = train_test_split(X,y, test_size = 0.2, stratify = y)"
   ]
  },
  {
   "cell_type": "markdown",
   "id": "6e0daba8",
   "metadata": {},
   "source": [
    "### Create a keras sequential model with Bidirectional layers"
   ]
  },
  {
   "cell_type": "code",
   "execution_count": 351,
   "id": "10b102e0",
   "metadata": {},
   "outputs": [],
   "source": [
    "model = Sequential([\n",
    "    layers.Embedding(vocab_size,100),\n",
    "    layers.Bidirectional(layers.LSTM(128, return_sequences=True, activation = 'relu')),\n",
    "    layers.Dropout(0.2),\n",
    "    layers.LSTM(64, activation='relu'),\n",
    "    layers.Dense(2, activation = 'sigmoid')\n",
    "])"
   ]
  },
  {
   "cell_type": "markdown",
   "id": "c3992d9c",
   "metadata": {},
   "source": [
    "### Compile the model"
   ]
  },
  {
   "cell_type": "code",
   "execution_count": 352,
   "id": "a5b17245",
   "metadata": {},
   "outputs": [],
   "source": [
    "model.compile(loss = 'categorical_crossentropy', optimizer = 'adam',metrics = ['accuracy'])"
   ]
  },
  {
   "cell_type": "markdown",
   "id": "9165deaf",
   "metadata": {},
   "source": [
    "### Train the model"
   ]
  },
  {
   "cell_type": "code",
   "execution_count": 353,
   "id": "674f2501",
   "metadata": {},
   "outputs": [
    {
     "name": "stdout",
     "output_type": "stream",
     "text": [
      "Epoch 1/10\n",
      "90/90 [==============================] - 12s 100ms/step - loss: 8033.9175 - accuracy: 0.6424 - val_loss: 0.4032 - val_accuracy: 0.8062\n",
      "Epoch 2/10\n",
      "90/90 [==============================] - 8s 90ms/step - loss: 0.2880 - accuracy: 0.8972 - val_loss: 0.3648 - val_accuracy: 0.8562\n",
      "Epoch 3/10\n",
      "90/90 [==============================] - 8s 90ms/step - loss: 0.0790 - accuracy: 0.9698 - val_loss: 0.7002 - val_accuracy: 0.8500\n",
      "Epoch 4/10\n",
      "90/90 [==============================] - 8s 90ms/step - loss: 0.0276 - accuracy: 0.9906 - val_loss: 1.1584 - val_accuracy: 0.8469\n",
      "Epoch 5/10\n",
      "90/90 [==============================] - 8s 90ms/step - loss: 150495.6719 - accuracy: 0.9781 - val_loss: 0.5601 - val_accuracy: 0.8438\n",
      "Epoch 6/10\n",
      "90/90 [==============================] - 8s 90ms/step - loss: 0.0210 - accuracy: 0.9927 - val_loss: 2.8479 - val_accuracy: 0.8594\n",
      "Epoch 7/10\n",
      "90/90 [==============================] - 8s 91ms/step - loss: 0.0110 - accuracy: 0.9951 - val_loss: 1.9849 - val_accuracy: 0.8500\n",
      "Epoch 8/10\n",
      "90/90 [==============================] - 8s 90ms/step - loss: 0.0078 - accuracy: 0.9965 - val_loss: 3.0958 - val_accuracy: 0.8438\n",
      "Epoch 9/10\n",
      "90/90 [==============================] - 8s 89ms/step - loss: 0.0061 - accuracy: 0.9969 - val_loss: 2.9556 - val_accuracy: 0.8344\n",
      "Epoch 10/10\n",
      "90/90 [==============================] - 8s 90ms/step - loss: 0.0056 - accuracy: 0.9979 - val_loss: 4.5193 - val_accuracy: 0.8250\n"
     ]
    },
    {
     "data": {
      "text/plain": [
       "<keras.callbacks.History at 0x1ce96e7c820>"
      ]
     },
     "execution_count": 353,
     "metadata": {},
     "output_type": "execute_result"
    }
   ],
   "source": [
    "model.fit(X_train,y_train,epochs = 10, validation_split = 0.1)"
   ]
  },
  {
   "cell_type": "markdown",
   "id": "4a0cc379",
   "metadata": {},
   "source": [
    "### Make Predictions with X_test"
   ]
  },
  {
   "cell_type": "code",
   "execution_count": 404,
   "id": "6c85eb3a",
   "metadata": {},
   "outputs": [
    {
     "name": "stdout",
     "output_type": "stream",
     "text": [
      "25/25 [==============================] - 1s 27ms/step\n"
     ]
    }
   ],
   "source": [
    "y_pred = model.predict(X_test)"
   ]
  },
  {
   "cell_type": "markdown",
   "id": "3e7f230b",
   "metadata": {},
   "source": [
    "### Evaluate the model"
   ]
  },
  {
   "cell_type": "markdown",
   "id": "7de68efb",
   "metadata": {},
   "source": [
    "### Check accuracy_score"
   ]
  },
  {
   "cell_type": "code",
   "execution_count": 399,
   "id": "89cc8425",
   "metadata": {},
   "outputs": [],
   "source": [
    "y_test = [np.argmax(i) for i in y_test]"
   ]
  },
  {
   "cell_type": "code",
   "execution_count": 411,
   "id": "102d848d",
   "metadata": {},
   "outputs": [],
   "source": [
    "y_pred = [np.argmax(i) for i in y_pred]"
   ]
  },
  {
   "cell_type": "code",
   "execution_count": 412,
   "id": "2bd9825f",
   "metadata": {},
   "outputs": [
    {
     "data": {
      "text/plain": [
       "0.94875"
      ]
     },
     "execution_count": 412,
     "metadata": {},
     "output_type": "execute_result"
    }
   ],
   "source": [
    "accuracy_score(y_test,y_pred)"
   ]
  },
  {
   "cell_type": "markdown",
   "id": "db98518e",
   "metadata": {},
   "source": [
    "### Plot confusion matrix on heatmap"
   ]
  },
  {
   "cell_type": "code",
   "execution_count": 415,
   "id": "ac1e6bc4",
   "metadata": {},
   "outputs": [
    {
     "data": {
      "image/png": "[encoded data removed]",
      "text/plain": [
       "<Figure size 432x288 with 2 Axes>"
      ]
     },
     "metadata": {
      "needs_background": "light"
     },
     "output_type": "display_data"
    }
   ],
   "source": [
    "sns.heatmap(confusion_matrix(y_test,y_pred), annot=True, fmt = 'd')\n",
    "plt.show()"
   ]
  },
  {
   "cell_type": "markdown",
   "id": "a6d23055",
   "metadata": {},
   "source": [
    "### Print Classification Report"
   ]
  },
  {
   "cell_type": "code",
   "execution_count": 414,
   "id": "a4628c99",
   "metadata": {},
   "outputs": [
    {
     "name": "stdout",
     "output_type": "stream",
     "text": [
      "              precision    recall  f1-score   support\n",
      "\n",
      "           0       0.94      0.95      0.95       400\n",
      "           1       0.95      0.94      0.95       400\n",
      "\n",
      "    accuracy                           0.95       800\n",
      "   macro avg       0.95      0.95      0.95       800\n",
      "weighted avg       0.95      0.95      0.95       800\n",
      "\n"
     ]
    }
   ],
   "source": [
    "print(classification_report(y_test,y_pred))"
   ]
  },
  {
   "cell_type": "markdown",
   "id": "21c444c5",
   "metadata": {},
   "source": [
    "***"
   ]
  }
 ],
 "metadata": {
  "kernelspec": {
   "display_name": "Python 3 (ipykernel)",
   "language": "python",
   "name": "python3"
  },
  "language_info": {
   "codemirror_mode": {
    "name": "ipython",
    "version": 3
   },
   "file_extension": ".py",
   "mimetype": "text/x-python",
   "name": "python",
   "nbconvert_exporter": "python",
   "pygments_lexer": "ipython3",
   "version": "3.9.12"
  }
 },
 "nbformat": 4,
 "nbformat_minor": 5
}
